{
  "nbformat": 4,
  "nbformat_minor": 0,
  "metadata": {
    "colab": {
      "name": "CS540-3.ipynb",
      "provenance": [],
      "machine_shape": "hm"
    },
    "kernelspec": {
      "name": "python3",
      "display_name": "Python 3"
    },
    "accelerator": "GPU"
  },
  "cells": [
    {
      "cell_type": "code",
      "metadata": {
        "id": "TcjgaweoqLlJ",
        "colab_type": "code",
        "colab": {}
      },
      "source": [
        "import numpy as np \n",
        "import pandas as pd"
      ],
      "execution_count": 0,
      "outputs": []
    },
    {
      "cell_type": "code",
      "metadata": {
        "id": "8W-wlzB1q7tG",
        "colab_type": "code",
        "outputId": "cc35df82-ec81-47f3-fd49-19ba40fa89f8",
        "colab": {
          "base_uri": "https://localhost:8080/",
          "height": 408
        }
      },
      "source": [
        "summary = pd.read_csv(\"/content/drive/My Drive/Colab Notebooks/datasets/news_summary.csv\",encoding='iso-8859-1')\n",
        "summary.head()"
      ],
      "execution_count": 0,
      "outputs": [
        {
          "output_type": "execute_result",
          "data": {
            "text/html": [
              "<div>\n",
              "<style scoped>\n",
              "    .dataframe tbody tr th:only-of-type {\n",
              "        vertical-align: middle;\n",
              "    }\n",
              "\n",
              "    .dataframe tbody tr th {\n",
              "        vertical-align: top;\n",
              "    }\n",
              "\n",
              "    .dataframe thead th {\n",
              "        text-align: right;\n",
              "    }\n",
              "</style>\n",
              "<table border=\"1\" class=\"dataframe\">\n",
              "  <thead>\n",
              "    <tr style=\"text-align: right;\">\n",
              "      <th></th>\n",
              "      <th>author</th>\n",
              "      <th>date</th>\n",
              "      <th>headlines</th>\n",
              "      <th>read_more</th>\n",
              "      <th>text</th>\n",
              "      <th>ctext</th>\n",
              "    </tr>\n",
              "  </thead>\n",
              "  <tbody>\n",
              "    <tr>\n",
              "      <th>0</th>\n",
              "      <td>Chhavi Tyagi</td>\n",
              "      <td>03 Aug 2017,Thursday</td>\n",
              "      <td>Daman &amp; Diu revokes mandatory Rakshabandhan in...</td>\n",
              "      <td>http://www.hindustantimes.com/india-news/raksh...</td>\n",
              "      <td>The Administration of Union Territory Daman an...</td>\n",
              "      <td>The Daman and Diu administration on Wednesday ...</td>\n",
              "    </tr>\n",
              "    <tr>\n",
              "      <th>1</th>\n",
              "      <td>Daisy Mowke</td>\n",
              "      <td>03 Aug 2017,Thursday</td>\n",
              "      <td>Malaika slams user who trolled her for 'divorc...</td>\n",
              "      <td>http://www.hindustantimes.com/bollywood/malaik...</td>\n",
              "      <td>Malaika Arora slammed an Instagram user who tr...</td>\n",
              "      <td>From her special numbers to TV?appearances, Bo...</td>\n",
              "    </tr>\n",
              "    <tr>\n",
              "      <th>2</th>\n",
              "      <td>Arshiya Chopra</td>\n",
              "      <td>03 Aug 2017,Thursday</td>\n",
              "      <td>'Virgin' now corrected to 'Unmarried' in IGIMS...</td>\n",
              "      <td>http://www.hindustantimes.com/patna/bihar-igim...</td>\n",
              "      <td>The Indira Gandhi Institute of Medical Science...</td>\n",
              "      <td>The Indira Gandhi Institute of Medical Science...</td>\n",
              "    </tr>\n",
              "    <tr>\n",
              "      <th>3</th>\n",
              "      <td>Sumedha Sehra</td>\n",
              "      <td>03 Aug 2017,Thursday</td>\n",
              "      <td>Aaj aapne pakad liya: LeT man Dujana before be...</td>\n",
              "      <td>http://indiatoday.intoday.in/story/abu-dujana-...</td>\n",
              "      <td>Lashkar-e-Taiba's Kashmir commander Abu Dujana...</td>\n",
              "      <td>Lashkar-e-Taiba's Kashmir commander Abu Dujana...</td>\n",
              "    </tr>\n",
              "    <tr>\n",
              "      <th>4</th>\n",
              "      <td>Aarushi Maheshwari</td>\n",
              "      <td>03 Aug 2017,Thursday</td>\n",
              "      <td>Hotel staff to get training to spot signs of s...</td>\n",
              "      <td>http://indiatoday.intoday.in/story/sex-traffic...</td>\n",
              "      <td>Hotels in Maharashtra will train their staff t...</td>\n",
              "      <td>Hotels in Mumbai and other Indian cities are t...</td>\n",
              "    </tr>\n",
              "  </tbody>\n",
              "</table>\n",
              "</div>"
            ],
            "text/plain": [
              "               author  ...                                              ctext\n",
              "0        Chhavi Tyagi  ...  The Daman and Diu administration on Wednesday ...\n",
              "1         Daisy Mowke  ...  From her special numbers to TV?appearances, Bo...\n",
              "2      Arshiya Chopra  ...  The Indira Gandhi Institute of Medical Science...\n",
              "3       Sumedha Sehra  ...  Lashkar-e-Taiba's Kashmir commander Abu Dujana...\n",
              "4  Aarushi Maheshwari  ...  Hotels in Mumbai and other Indian cities are t...\n",
              "\n",
              "[5 rows x 6 columns]"
            ]
          },
          "metadata": {
            "tags": []
          },
          "execution_count": 2
        }
      ]
    },
    {
      "cell_type": "code",
      "metadata": {
        "id": "tRxKkSukq9QW",
        "colab_type": "code",
        "outputId": "57273f86-669f-4250-bc85-4f79d572040a",
        "colab": {
          "base_uri": "https://localhost:8080/",
          "height": 204
        }
      },
      "source": [
        "raw = pd.read_csv('/content/drive/My Drive/Colab Notebooks/datasets/news_summary_more.csv', encoding='iso-8859-1')\n",
        "raw.head()"
      ],
      "execution_count": 0,
      "outputs": [
        {
          "output_type": "execute_result",
          "data": {
            "text/html": [
              "<div>\n",
              "<style scoped>\n",
              "    .dataframe tbody tr th:only-of-type {\n",
              "        vertical-align: middle;\n",
              "    }\n",
              "\n",
              "    .dataframe tbody tr th {\n",
              "        vertical-align: top;\n",
              "    }\n",
              "\n",
              "    .dataframe thead th {\n",
              "        text-align: right;\n",
              "    }\n",
              "</style>\n",
              "<table border=\"1\" class=\"dataframe\">\n",
              "  <thead>\n",
              "    <tr style=\"text-align: right;\">\n",
              "      <th></th>\n",
              "      <th>headlines</th>\n",
              "      <th>text</th>\n",
              "    </tr>\n",
              "  </thead>\n",
              "  <tbody>\n",
              "    <tr>\n",
              "      <th>0</th>\n",
              "      <td>upGrad learner switches to career in ML &amp; Al w...</td>\n",
              "      <td>Saurav Kant, an alumnus of upGrad and IIIT-B's...</td>\n",
              "    </tr>\n",
              "    <tr>\n",
              "      <th>1</th>\n",
              "      <td>Delhi techie wins free food from Swiggy for on...</td>\n",
              "      <td>Kunal Shah's credit card bill payment platform...</td>\n",
              "    </tr>\n",
              "    <tr>\n",
              "      <th>2</th>\n",
              "      <td>New Zealand end Rohit Sharma-led India's 12-ma...</td>\n",
              "      <td>New Zealand defeated India by 8 wickets in the...</td>\n",
              "    </tr>\n",
              "    <tr>\n",
              "      <th>3</th>\n",
              "      <td>Aegon life iTerm insurance plan helps customer...</td>\n",
              "      <td>With Aegon Life iTerm Insurance plan, customer...</td>\n",
              "    </tr>\n",
              "    <tr>\n",
              "      <th>4</th>\n",
              "      <td>Have known Hirani for yrs, what if MeToo claim...</td>\n",
              "      <td>Speaking about the sexual harassment allegatio...</td>\n",
              "    </tr>\n",
              "  </tbody>\n",
              "</table>\n",
              "</div>"
            ],
            "text/plain": [
              "                                           headlines                                               text\n",
              "0  upGrad learner switches to career in ML & Al w...  Saurav Kant, an alumnus of upGrad and IIIT-B's...\n",
              "1  Delhi techie wins free food from Swiggy for on...  Kunal Shah's credit card bill payment platform...\n",
              "2  New Zealand end Rohit Sharma-led India's 12-ma...  New Zealand defeated India by 8 wickets in the...\n",
              "3  Aegon life iTerm insurance plan helps customer...  With Aegon Life iTerm Insurance plan, customer...\n",
              "4  Have known Hirani for yrs, what if MeToo claim...  Speaking about the sexual harassment allegatio..."
            ]
          },
          "metadata": {
            "tags": []
          },
          "execution_count": 3
        }
      ]
    },
    {
      "cell_type": "code",
      "metadata": {
        "id": "qzBQitmrsOgd",
        "colab_type": "code",
        "colab": {}
      },
      "source": [
        "pre1 =  raw.iloc[:,0:2].copy()\n",
        "pre1['head + text'] = pre1['headlines'].str.cat(pre1['text'], sep =\" \")"
      ],
      "execution_count": 0,
      "outputs": []
    },
    {
      "cell_type": "code",
      "metadata": {
        "id": "1S6absimsbUh",
        "colab_type": "code",
        "outputId": "4efad841-9fd9-437e-aade-e1c042530830",
        "colab": {
          "base_uri": "https://localhost:8080/",
          "height": 221
        }
      },
      "source": [
        "pre1.head()"
      ],
      "execution_count": 0,
      "outputs": [
        {
          "output_type": "execute_result",
          "data": {
            "text/html": [
              "<div>\n",
              "<style scoped>\n",
              "    .dataframe tbody tr th:only-of-type {\n",
              "        vertical-align: middle;\n",
              "    }\n",
              "\n",
              "    .dataframe tbody tr th {\n",
              "        vertical-align: top;\n",
              "    }\n",
              "\n",
              "    .dataframe thead th {\n",
              "        text-align: right;\n",
              "    }\n",
              "</style>\n",
              "<table border=\"1\" class=\"dataframe\">\n",
              "  <thead>\n",
              "    <tr style=\"text-align: right;\">\n",
              "      <th></th>\n",
              "      <th>headlines</th>\n",
              "      <th>text</th>\n",
              "      <th>head + text</th>\n",
              "    </tr>\n",
              "  </thead>\n",
              "  <tbody>\n",
              "    <tr>\n",
              "      <th>0</th>\n",
              "      <td>upGrad learner switches to career in ML &amp; Al w...</td>\n",
              "      <td>Saurav Kant, an alumnus of upGrad and IIIT-B's...</td>\n",
              "      <td>upGrad learner switches to career in ML &amp; Al w...</td>\n",
              "    </tr>\n",
              "    <tr>\n",
              "      <th>1</th>\n",
              "      <td>Delhi techie wins free food from Swiggy for on...</td>\n",
              "      <td>Kunal Shah's credit card bill payment platform...</td>\n",
              "      <td>Delhi techie wins free food from Swiggy for on...</td>\n",
              "    </tr>\n",
              "    <tr>\n",
              "      <th>2</th>\n",
              "      <td>New Zealand end Rohit Sharma-led India's 12-ma...</td>\n",
              "      <td>New Zealand defeated India by 8 wickets in the...</td>\n",
              "      <td>New Zealand end Rohit Sharma-led India's 12-ma...</td>\n",
              "    </tr>\n",
              "    <tr>\n",
              "      <th>3</th>\n",
              "      <td>Aegon life iTerm insurance plan helps customer...</td>\n",
              "      <td>With Aegon Life iTerm Insurance plan, customer...</td>\n",
              "      <td>Aegon life iTerm insurance plan helps customer...</td>\n",
              "    </tr>\n",
              "    <tr>\n",
              "      <th>4</th>\n",
              "      <td>Have known Hirani for yrs, what if MeToo claim...</td>\n",
              "      <td>Speaking about the sexual harassment allegatio...</td>\n",
              "      <td>Have known Hirani for yrs, what if MeToo claim...</td>\n",
              "    </tr>\n",
              "  </tbody>\n",
              "</table>\n",
              "</div>"
            ],
            "text/plain": [
              "                                           headlines  ...                                        head + text\n",
              "0  upGrad learner switches to career in ML & Al w...  ...  upGrad learner switches to career in ML & Al w...\n",
              "1  Delhi techie wins free food from Swiggy for on...  ...  Delhi techie wins free food from Swiggy for on...\n",
              "2  New Zealand end Rohit Sharma-led India's 12-ma...  ...  New Zealand end Rohit Sharma-led India's 12-ma...\n",
              "3  Aegon life iTerm insurance plan helps customer...  ...  Aegon life iTerm insurance plan helps customer...\n",
              "4  Have known Hirani for yrs, what if MeToo claim...  ...  Have known Hirani for yrs, what if MeToo claim...\n",
              "\n",
              "[5 rows x 3 columns]"
            ]
          },
          "metadata": {
            "tags": []
          },
          "execution_count": 5
        }
      ]
    },
    {
      "cell_type": "code",
      "metadata": {
        "id": "glkp_VsEsdX5",
        "colab_type": "code",
        "colab": {}
      },
      "source": [
        "pre2 = summary.iloc[:,0:6].copy()\n",
        "pre2['head + text'] = pre2['author'].str.cat(pre2['date'].str.cat(pre2['headlines'].str.cat(pre2['read_more'].str.cat(pre2['text'].str.cat(pre2['ctext'], sep = \" \"), sep =\" \"),sep= \" \"), sep = \" \"),sep= \" \")"
      ],
      "execution_count": 0,
      "outputs": []
    },
    {
      "cell_type": "code",
      "metadata": {
        "id": "v0J9fQlwskuX",
        "colab_type": "code",
        "outputId": "4a67ce0d-79a9-44f2-f709-e956291c32e5",
        "colab": {
          "base_uri": "https://localhost:8080/",
          "height": 578
        }
      },
      "source": [
        "pre2.head()"
      ],
      "execution_count": 0,
      "outputs": [
        {
          "output_type": "execute_result",
          "data": {
            "text/html": [
              "<div>\n",
              "<style scoped>\n",
              "    .dataframe tbody tr th:only-of-type {\n",
              "        vertical-align: middle;\n",
              "    }\n",
              "\n",
              "    .dataframe tbody tr th {\n",
              "        vertical-align: top;\n",
              "    }\n",
              "\n",
              "    .dataframe thead th {\n",
              "        text-align: right;\n",
              "    }\n",
              "</style>\n",
              "<table border=\"1\" class=\"dataframe\">\n",
              "  <thead>\n",
              "    <tr style=\"text-align: right;\">\n",
              "      <th></th>\n",
              "      <th>author</th>\n",
              "      <th>date</th>\n",
              "      <th>headlines</th>\n",
              "      <th>read_more</th>\n",
              "      <th>text</th>\n",
              "      <th>ctext</th>\n",
              "      <th>head + text</th>\n",
              "    </tr>\n",
              "  </thead>\n",
              "  <tbody>\n",
              "    <tr>\n",
              "      <th>0</th>\n",
              "      <td>Chhavi Tyagi</td>\n",
              "      <td>03 Aug 2017,Thursday</td>\n",
              "      <td>Daman &amp; Diu revokes mandatory Rakshabandhan in...</td>\n",
              "      <td>http://www.hindustantimes.com/india-news/raksh...</td>\n",
              "      <td>The Administration of Union Territory Daman an...</td>\n",
              "      <td>The Daman and Diu administration on Wednesday ...</td>\n",
              "      <td>Chhavi Tyagi 03 Aug 2017,Thursday Daman &amp; Diu ...</td>\n",
              "    </tr>\n",
              "    <tr>\n",
              "      <th>1</th>\n",
              "      <td>Daisy Mowke</td>\n",
              "      <td>03 Aug 2017,Thursday</td>\n",
              "      <td>Malaika slams user who trolled her for 'divorc...</td>\n",
              "      <td>http://www.hindustantimes.com/bollywood/malaik...</td>\n",
              "      <td>Malaika Arora slammed an Instagram user who tr...</td>\n",
              "      <td>From her special numbers to TV?appearances, Bo...</td>\n",
              "      <td>Daisy Mowke 03 Aug 2017,Thursday Malaika slams...</td>\n",
              "    </tr>\n",
              "    <tr>\n",
              "      <th>2</th>\n",
              "      <td>Arshiya Chopra</td>\n",
              "      <td>03 Aug 2017,Thursday</td>\n",
              "      <td>'Virgin' now corrected to 'Unmarried' in IGIMS...</td>\n",
              "      <td>http://www.hindustantimes.com/patna/bihar-igim...</td>\n",
              "      <td>The Indira Gandhi Institute of Medical Science...</td>\n",
              "      <td>The Indira Gandhi Institute of Medical Science...</td>\n",
              "      <td>Arshiya Chopra 03 Aug 2017,Thursday 'Virgin' n...</td>\n",
              "    </tr>\n",
              "    <tr>\n",
              "      <th>3</th>\n",
              "      <td>Sumedha Sehra</td>\n",
              "      <td>03 Aug 2017,Thursday</td>\n",
              "      <td>Aaj aapne pakad liya: LeT man Dujana before be...</td>\n",
              "      <td>http://indiatoday.intoday.in/story/abu-dujana-...</td>\n",
              "      <td>Lashkar-e-Taiba's Kashmir commander Abu Dujana...</td>\n",
              "      <td>Lashkar-e-Taiba's Kashmir commander Abu Dujana...</td>\n",
              "      <td>Sumedha Sehra 03 Aug 2017,Thursday Aaj aapne p...</td>\n",
              "    </tr>\n",
              "    <tr>\n",
              "      <th>4</th>\n",
              "      <td>Aarushi Maheshwari</td>\n",
              "      <td>03 Aug 2017,Thursday</td>\n",
              "      <td>Hotel staff to get training to spot signs of s...</td>\n",
              "      <td>http://indiatoday.intoday.in/story/sex-traffic...</td>\n",
              "      <td>Hotels in Maharashtra will train their staff t...</td>\n",
              "      <td>Hotels in Mumbai and other Indian cities are t...</td>\n",
              "      <td>Aarushi Maheshwari 03 Aug 2017,Thursday Hotel ...</td>\n",
              "    </tr>\n",
              "  </tbody>\n",
              "</table>\n",
              "</div>"
            ],
            "text/plain": [
              "               author  ...                                        head + text\n",
              "0        Chhavi Tyagi  ...  Chhavi Tyagi 03 Aug 2017,Thursday Daman & Diu ...\n",
              "1         Daisy Mowke  ...  Daisy Mowke 03 Aug 2017,Thursday Malaika slams...\n",
              "2      Arshiya Chopra  ...  Arshiya Chopra 03 Aug 2017,Thursday 'Virgin' n...\n",
              "3       Sumedha Sehra  ...  Sumedha Sehra 03 Aug 2017,Thursday Aaj aapne p...\n",
              "4  Aarushi Maheshwari  ...  Aarushi Maheshwari 03 Aug 2017,Thursday Hotel ...\n",
              "\n",
              "[5 rows x 7 columns]"
            ]
          },
          "metadata": {
            "tags": []
          },
          "execution_count": 7
        }
      ]
    },
    {
      "cell_type": "code",
      "metadata": {
        "id": "aWk56dt7snfH",
        "colab_type": "code",
        "colab": {}
      },
      "source": [
        "pre = pd.DataFrame()\n",
        "pre['text'] = pd.concat([pre1['text'], pre2['text']], ignore_index=True)\n",
        "pre['summary'] = pd.concat([pre1['headlines'],pre2['headlines']],ignore_index = True)"
      ],
      "execution_count": 0,
      "outputs": []
    },
    {
      "cell_type": "code",
      "metadata": {
        "id": "E1HeQf07srum",
        "colab_type": "code",
        "outputId": "335045e3-b0ea-452f-9bb2-0d5e9f29a450",
        "colab": {
          "base_uri": "https://localhost:8080/",
          "height": 204
        }
      },
      "source": [
        "pre.head()"
      ],
      "execution_count": 0,
      "outputs": [
        {
          "output_type": "execute_result",
          "data": {
            "text/html": [
              "<div>\n",
              "<style scoped>\n",
              "    .dataframe tbody tr th:only-of-type {\n",
              "        vertical-align: middle;\n",
              "    }\n",
              "\n",
              "    .dataframe tbody tr th {\n",
              "        vertical-align: top;\n",
              "    }\n",
              "\n",
              "    .dataframe thead th {\n",
              "        text-align: right;\n",
              "    }\n",
              "</style>\n",
              "<table border=\"1\" class=\"dataframe\">\n",
              "  <thead>\n",
              "    <tr style=\"text-align: right;\">\n",
              "      <th></th>\n",
              "      <th>text</th>\n",
              "      <th>summary</th>\n",
              "    </tr>\n",
              "  </thead>\n",
              "  <tbody>\n",
              "    <tr>\n",
              "      <th>0</th>\n",
              "      <td>Saurav Kant, an alumnus of upGrad and IIIT-B's...</td>\n",
              "      <td>upGrad learner switches to career in ML &amp; Al w...</td>\n",
              "    </tr>\n",
              "    <tr>\n",
              "      <th>1</th>\n",
              "      <td>Kunal Shah's credit card bill payment platform...</td>\n",
              "      <td>Delhi techie wins free food from Swiggy for on...</td>\n",
              "    </tr>\n",
              "    <tr>\n",
              "      <th>2</th>\n",
              "      <td>New Zealand defeated India by 8 wickets in the...</td>\n",
              "      <td>New Zealand end Rohit Sharma-led India's 12-ma...</td>\n",
              "    </tr>\n",
              "    <tr>\n",
              "      <th>3</th>\n",
              "      <td>With Aegon Life iTerm Insurance plan, customer...</td>\n",
              "      <td>Aegon life iTerm insurance plan helps customer...</td>\n",
              "    </tr>\n",
              "    <tr>\n",
              "      <th>4</th>\n",
              "      <td>Speaking about the sexual harassment allegatio...</td>\n",
              "      <td>Have known Hirani for yrs, what if MeToo claim...</td>\n",
              "    </tr>\n",
              "  </tbody>\n",
              "</table>\n",
              "</div>"
            ],
            "text/plain": [
              "                                                text                                            summary\n",
              "0  Saurav Kant, an alumnus of upGrad and IIIT-B's...  upGrad learner switches to career in ML & Al w...\n",
              "1  Kunal Shah's credit card bill payment platform...  Delhi techie wins free food from Swiggy for on...\n",
              "2  New Zealand defeated India by 8 wickets in the...  New Zealand end Rohit Sharma-led India's 12-ma...\n",
              "3  With Aegon Life iTerm Insurance plan, customer...  Aegon life iTerm insurance plan helps customer...\n",
              "4  Speaking about the sexual harassment allegatio...  Have known Hirani for yrs, what if MeToo claim..."
            ]
          },
          "metadata": {
            "tags": []
          },
          "execution_count": 9
        }
      ]
    },
    {
      "cell_type": "code",
      "metadata": {
        "id": "y9GYzMmMtJ-Y",
        "colab_type": "code",
        "outputId": "8cea80f7-ab22-4e3a-b768-45f482b96e70",
        "colab": {
          "base_uri": "https://localhost:8080/",
          "height": 204
        }
      },
      "source": [
        "pre['text'][:10]"
      ],
      "execution_count": 0,
      "outputs": [
        {
          "output_type": "execute_result",
          "data": {
            "text/plain": [
              "0    Saurav Kant, an alumnus of upGrad and IIIT-B's...\n",
              "1    Kunal Shah's credit card bill payment platform...\n",
              "2    New Zealand defeated India by 8 wickets in the...\n",
              "3    With Aegon Life iTerm Insurance plan, customer...\n",
              "4    Speaking about the sexual harassment allegatio...\n",
              "5    Pakistani singer Rahat Fateh Ali Khan has deni...\n",
              "6    India recorded their lowest ODI total in New Z...\n",
              "7    Weeks after ex-CBI Director Alok Verma told th...\n",
              "8    Andhra Pradesh CM N Chandrababu Naidu has said...\n",
              "9    Congress candidate Shafia Zubair won the Ramga...\n",
              "Name: text, dtype: object"
            ]
          },
          "metadata": {
            "tags": []
          },
          "execution_count": 10
        }
      ]
    },
    {
      "cell_type": "code",
      "metadata": {
        "id": "PYVc7zt1stdW",
        "colab_type": "code",
        "colab": {}
      },
      "source": [
        "import re \n",
        "def text_strip(column):\n",
        "\n",
        "  for row in column:    \n",
        "    row=re.sub(\"(\\\\t)\", ' ', str(row)).lower() \n",
        "    row=re.sub(\"(\\\\r)\", ' ', str(row)).lower() \n",
        "    row=re.sub(\"(\\\\n)\", ' ', str(row)).lower()\n",
        "    \n",
        "    row=re.sub(\"(__+)\", ' ', str(row)).lower()   \n",
        "    row=re.sub(\"(--+)\", ' ', str(row)).lower()   \n",
        "    row=re.sub(\"(~~+)\", ' ', str(row)).lower()   \n",
        "    row=re.sub(\"(\\+\\++)\", ' ', str(row)).lower()   \n",
        "    row=re.sub(\"(\\.\\.+)\", ' ', str(row)).lower()  \n",
        "    \n",
        "    row=re.sub(r\"[<>()|&©ø\\[\\]\\'\\\",;?~*!]\", ' ', str(row)).lower() \n",
        "    \n",
        "    row=re.sub(\"(mailto:)\", ' ', str(row)).lower() \n",
        "    row=re.sub(r\"(\\\\x9\\d)\", ' ', str(row)).lower() \n",
        "    row=re.sub(\"([iI][nN][cC]\\d+)\", 'INC_NUM', str(row)).lower() \n",
        "    row=re.sub(\"([cC][mM]\\d+)|([cC][hH][gG]\\d+)\", 'CM_NUM', str(row)).lower() \n",
        "    \n",
        "    \n",
        "    row=re.sub(\"(\\.\\s+)\", ' ', str(row)).lower() \n",
        "    row=re.sub(\"(\\-\\s+)\", ' ', str(row)).lower() \n",
        "    row=re.sub(\"(\\:\\s+)\", ' ', str(row)).lower() \n",
        "    \n",
        "    row=re.sub(\"(\\s+.\\s+)\", ' ', str(row)).lower() \n",
        "\n",
        "    # to replace an url\n",
        "    try:\n",
        "        url = re.search(r'((https*:\\/*)([^\\/\\s]+))(.[^\\s]+)', str(row))\n",
        "        repl_url = url.group(3)\n",
        "        row = re.sub(r'((https*:\\/*)([^\\/\\s]+))(.[^\\s]+)',repl_url, str(row))\n",
        "    except:\n",
        "        pass\n",
        "    \n",
        "\n",
        "    \n",
        "    row = re.sub(\"(\\s+)\",' ',str(row)).lower() #remove multiple spaces\n",
        "    \n",
        "    row=re.sub(\"(\\s+.\\s+)\", ' ', str(row)).lower()\n",
        "\n",
        "    \n",
        "    \n",
        "    yield row"
      ],
      "execution_count": 0,
      "outputs": []
    },
    {
      "cell_type": "code",
      "metadata": {
        "id": "1MQ4UG5-s10O",
        "colab_type": "code",
        "colab": {}
      },
      "source": [
        "brief_cleaning1 = text_strip(pre['text'])\n",
        "brief_cleaning2 = text_strip(pre['summary'])"
      ],
      "execution_count": 0,
      "outputs": []
    },
    {
      "cell_type": "code",
      "metadata": {
        "id": "GG0sAjZ0t_8x",
        "colab_type": "code",
        "outputId": "a50169d0-e6c5-4442-e9ad-acd7f5586a0d",
        "colab": {
          "base_uri": "https://localhost:8080/",
          "height": 34
        }
      },
      "source": [
        "print(brief_cleaning1)"
      ],
      "execution_count": 0,
      "outputs": [
        {
          "output_type": "stream",
          "text": [
            "<generator object text_strip at 0x7f86f1abdf68>\n"
          ],
          "name": "stdout"
        }
      ]
    },
    {
      "cell_type": "code",
      "metadata": {
        "id": "lH-TnEsHuCif",
        "colab_type": "code",
        "outputId": "4ffa6e1c-a832-4733-f566-780bf0dd5da6",
        "colab": {
          "base_uri": "https://localhost:8080/",
          "height": 34
        }
      },
      "source": [
        "from time import time\n",
        "import spacy\n",
        "nlp = spacy.load('en', disable=['ner', 'parser']) \n",
        "\n",
        "t = time()\n",
        "#spacy has the pipe method to increase the speed of prepocessing\n",
        "#we need it because we are removing the urls and all the stuff from nearly 100k rows\n",
        "text = [str(doc) for doc in nlp.pipe(brief_cleaning1, batch_size=5000, n_threads=-1)]\n",
        "\n",
        "print('Time to clean up everything: {} mins'.format(round((time() - t) / 60, 2)))\n"
      ],
      "execution_count": 0,
      "outputs": [
        {
          "output_type": "stream",
          "text": [
            "Time to clean up everything: 3.7 mins\n"
          ],
          "name": "stdout"
        }
      ]
    },
    {
      "cell_type": "code",
      "metadata": {
        "id": "aVCMacQNuNrd",
        "colab_type": "code",
        "outputId": "dbe66e89-a066-4b60-b4f9-81de9f4e9daf",
        "colab": {
          "base_uri": "https://localhost:8080/",
          "height": 34
        }
      },
      "source": [
        "t = time()\n",
        "\n",
        "summary = ['SOS '+ str(doc) + ' EOS' for doc in nlp.pipe(brief_cleaning2, batch_size=5000, n_threads=-1)]\n",
        "print('Time to clean up everything: {} mins'.format(round((time() - t) / 60, 2)))"
      ],
      "execution_count": 0,
      "outputs": [
        {
          "output_type": "stream",
          "text": [
            "Time to clean up everything: 0.87 mins\n"
          ],
          "name": "stdout"
        }
      ]
    },
    {
      "cell_type": "code",
      "metadata": {
        "id": "KcH0ZEr7v838",
        "colab_type": "code",
        "outputId": "a65aa830-ea70-4aab-a0f9-8059bf249a3a",
        "colab": {
          "base_uri": "https://localhost:8080/",
          "height": 54
        }
      },
      "source": [
        "text[0]"
      ],
      "execution_count": 0,
      "outputs": [
        {
          "output_type": "execute_result",
          "data": {
            "text/plain": [
              "'saurav kant an alumnus of upgrad and iiit-b pg program in machine learning and artificial intelligence was sr systems engineer at infosys with almost years of work experience the program and upgrad 360-degree career support helped him transition to data scientist at tech mahindra with 90% salary hike upgrad online power learning has powered lakh+ careers.'"
            ]
          },
          "metadata": {
            "tags": []
          },
          "execution_count": 16
        }
      ]
    },
    {
      "cell_type": "code",
      "metadata": {
        "id": "tkQfHkl5v_Na",
        "colab_type": "code",
        "outputId": "4c53135f-301c-476a-e499-db41e6e09bd8",
        "colab": {
          "base_uri": "https://localhost:8080/",
          "height": 34
        }
      },
      "source": [
        "summary[0]"
      ],
      "execution_count": 0,
      "outputs": [
        {
          "output_type": "execute_result",
          "data": {
            "text/plain": [
              "'SOS upgrad learner switches to career in ml al with 90% salary hike EOS'"
            ]
          },
          "metadata": {
            "tags": []
          },
          "execution_count": 17
        }
      ]
    },
    {
      "cell_type": "code",
      "metadata": {
        "id": "57qLyWIawBf_",
        "colab_type": "code",
        "colab": {}
      },
      "source": [
        "pre['cleaned_text'] = pd.Series(text)\n",
        "pre['cleaned_summary'] = pd.Series(summary)"
      ],
      "execution_count": 0,
      "outputs": []
    },
    {
      "cell_type": "code",
      "metadata": {
        "id": "OeftCDgcwDai",
        "colab_type": "code",
        "colab": {}
      },
      "source": [
        "text_count = []\n",
        "summary_count = []"
      ],
      "execution_count": 0,
      "outputs": []
    },
    {
      "cell_type": "code",
      "metadata": {
        "id": "JQOY9_DtwGdR",
        "colab_type": "code",
        "colab": {}
      },
      "source": [
        "for sent in pre['cleaned_text']:\n",
        "    text_count.append(len(sent.split()))\n",
        "for sent in pre['cleaned_summary']:\n",
        "    summary_count.append(len(sent.split()))"
      ],
      "execution_count": 0,
      "outputs": []
    },
    {
      "cell_type": "code",
      "metadata": {
        "id": "6HjeTZLXwJH3",
        "colab_type": "code",
        "colab": {}
      },
      "source": [
        "graph_df= pd.DataFrame()\n",
        "graph_df['text']=text_count\n",
        "graph_df['summary']=summary_count"
      ],
      "execution_count": 0,
      "outputs": []
    },
    {
      "cell_type": "code",
      "metadata": {
        "id": "qYO4MapRwL-Y",
        "colab_type": "code",
        "outputId": "2b31664d-6940-45c8-a163-064fe1b8b5f5",
        "colab": {
          "base_uri": "https://localhost:8080/",
          "height": 34
        }
      },
      "source": [
        "#Check how much % of summary have 0-15 words\n",
        "cnt=0\n",
        "for i in pre['cleaned_summary']:\n",
        "    if(len(i.split())<=15):\n",
        "        cnt=cnt+1\n",
        "print(cnt/len(pre['cleaned_summary']))"
      ],
      "execution_count": 0,
      "outputs": [
        {
          "output_type": "stream",
          "text": [
            "0.9978234465335472\n"
          ],
          "name": "stdout"
        }
      ]
    },
    {
      "cell_type": "code",
      "metadata": {
        "id": "N2EGaAGCwRvH",
        "colab_type": "code",
        "outputId": "d6b3aa84-9d39-4458-90c5-3c7988894e02",
        "colab": {
          "base_uri": "https://localhost:8080/",
          "height": 34
        }
      },
      "source": [
        "#Check how much % of text have 0-60 words\n",
        "cnt=0\n",
        "for i in pre['cleaned_text']:\n",
        "    if(len(i.split())<=60):\n",
        "        cnt=cnt+1\n",
        "print(cnt/len(pre['cleaned_text']))"
      ],
      "execution_count": 0,
      "outputs": [
        {
          "output_type": "stream",
          "text": [
            "0.9689258125637662\n"
          ],
          "name": "stdout"
        }
      ]
    },
    {
      "cell_type": "code",
      "metadata": {
        "id": "79bQpouIwT1y",
        "colab_type": "code",
        "colab": {}
      },
      "source": [
        "max_text_len=65\n",
        "max_summary_len=15"
      ],
      "execution_count": 0,
      "outputs": []
    },
    {
      "cell_type": "code",
      "metadata": {
        "id": "Wuzb7NHZwjYV",
        "colab_type": "code",
        "colab": {}
      },
      "source": [
        "cleaned_text =np.array(pre['cleaned_text'])\n",
        "cleaned_summary=np.array(pre['cleaned_summary'])\n",
        "\n",
        "short_text=[]\n",
        "short_summary=[]\n",
        "\n",
        "for i in range(len(cleaned_text)):\n",
        "    if(len(cleaned_summary[i].split())<=max_summary_len and len(cleaned_text[i].split())<=max_text_len):\n",
        "        short_text.append(cleaned_text[i])\n",
        "        short_summary.append(cleaned_summary[i])\n",
        "        \n",
        "post_pre=pd.DataFrame({'text':short_text,'summary':short_summary})"
      ],
      "execution_count": 0,
      "outputs": []
    },
    {
      "cell_type": "code",
      "metadata": {
        "id": "-xwxwl66wmQ1",
        "colab_type": "code",
        "outputId": "2443f18b-aabc-4d05-c0e0-44cf6e35de50",
        "colab": {
          "base_uri": "https://localhost:8080/",
          "height": 111
        }
      },
      "source": [
        "post_pre.head(2)"
      ],
      "execution_count": 0,
      "outputs": [
        {
          "output_type": "execute_result",
          "data": {
            "text/html": [
              "<div>\n",
              "<style scoped>\n",
              "    .dataframe tbody tr th:only-of-type {\n",
              "        vertical-align: middle;\n",
              "    }\n",
              "\n",
              "    .dataframe tbody tr th {\n",
              "        vertical-align: top;\n",
              "    }\n",
              "\n",
              "    .dataframe thead th {\n",
              "        text-align: right;\n",
              "    }\n",
              "</style>\n",
              "<table border=\"1\" class=\"dataframe\">\n",
              "  <thead>\n",
              "    <tr style=\"text-align: right;\">\n",
              "      <th></th>\n",
              "      <th>text</th>\n",
              "      <th>summary</th>\n",
              "    </tr>\n",
              "  </thead>\n",
              "  <tbody>\n",
              "    <tr>\n",
              "      <th>0</th>\n",
              "      <td>saurav kant an alumnus of upgrad and iiit-b pg...</td>\n",
              "      <td>SOS upgrad learner switches to career in ml al...</td>\n",
              "    </tr>\n",
              "    <tr>\n",
              "      <th>1</th>\n",
              "      <td>kunal shah credit card bill payment platform c...</td>\n",
              "      <td>SOS delhi techie wins free food from swiggy fo...</td>\n",
              "    </tr>\n",
              "  </tbody>\n",
              "</table>\n",
              "</div>"
            ],
            "text/plain": [
              "                                                text                                            summary\n",
              "0  saurav kant an alumnus of upgrad and iiit-b pg...  SOS upgrad learner switches to career in ml al...\n",
              "1  kunal shah credit card bill payment platform c...  SOS delhi techie wins free food from swiggy fo..."
            ]
          },
          "metadata": {
            "tags": []
          },
          "execution_count": 26
        }
      ]
    },
    {
      "cell_type": "code",
      "metadata": {
        "id": "XgI_-hh2woSU",
        "colab_type": "code",
        "colab": {}
      },
      "source": [
        "post_pre['summary'] = post_pre['summary'].apply(lambda x : 'sostok '+ x + ' eostok')"
      ],
      "execution_count": 0,
      "outputs": []
    },
    {
      "cell_type": "code",
      "metadata": {
        "id": "ViB2EK7_y9KA",
        "colab_type": "code",
        "colab": {}
      },
      "source": [
        "from sklearn.model_selection import train_test_split\n",
        "x_tr,x_val,y_tr,y_val=train_test_split(np.array(post_pre['text']),np.array(post_pre['summary']),test_size=0.1,random_state=0,shuffle=True)"
      ],
      "execution_count": 0,
      "outputs": []
    },
    {
      "cell_type": "code",
      "metadata": {
        "id": "jE5FQ3y_zAYd",
        "colab_type": "code",
        "outputId": "15e957c4-9bad-4797-b170-049a2a22ba2d",
        "colab": {
          "base_uri": "https://localhost:8080/",
          "height": 34
        }
      },
      "source": [
        "from keras.preprocessing.text import Tokenizer \n",
        "from keras.preprocessing.sequence import pad_sequences\n",
        "\n",
        "x_tokenizer = Tokenizer() \n",
        "x_tokenizer.fit_on_texts(list(x_tr))"
      ],
      "execution_count": 0,
      "outputs": [
        {
          "output_type": "stream",
          "text": [
            "Using TensorFlow backend.\n"
          ],
          "name": "stderr"
        }
      ]
    },
    {
      "cell_type": "code",
      "metadata": {
        "id": "prrb12BWzEFN",
        "colab_type": "code",
        "outputId": "747294a4-3bea-4aab-ad14-20d3b0a26faf",
        "colab": {
          "base_uri": "https://localhost:8080/",
          "height": 51
        }
      },
      "source": [
        "thresh_hold=4\n",
        "\n",
        "cnt=0\n",
        "tot_cnt=0\n",
        "freq=0\n",
        "tot_freq=0\n",
        "\n",
        "for key,value in x_tokenizer.word_counts.items():\n",
        "    tot_cnt=tot_cnt+1\n",
        "    tot_freq=tot_freq+value\n",
        "    if(value<thresh_hold):\n",
        "        cnt=cnt+1\n",
        "        freq=freq+value\n",
        "    \n",
        "print(\"% of rare words in vocabulary:\",(cnt/tot_cnt)*100)\n",
        "print(\"Total Coverage of rare words:\",(freq/tot_freq)*100)"
      ],
      "execution_count": 0,
      "outputs": [
        {
          "output_type": "stream",
          "text": [
            "% of rare words in vocabulary: 57.405111637051235\n",
            "Total Coverage of rare words: 1.2878588821225907\n"
          ],
          "name": "stdout"
        }
      ]
    },
    {
      "cell_type": "code",
      "metadata": {
        "id": "C_xjk1XfzUG-",
        "colab_type": "code",
        "outputId": "dd946ee5-d1cc-4766-f93f-8bf28f2c2183",
        "colab": {
          "base_uri": "https://localhost:8080/",
          "height": 34
        }
      },
      "source": [
        "x_tokenizer = Tokenizer(num_words=tot_cnt-cnt) \n",
        "x_tokenizer.fit_on_texts(list(x_tr))\n",
        "\n",
        "#convert text sequences into integer sequences (i.e one-hot encodeing all the words)\n",
        "x_tr_seq    =   x_tokenizer.texts_to_sequences(x_tr) \n",
        "x_val_seq   =   x_tokenizer.texts_to_sequences(x_val)\n",
        "\n",
        "#padding zero upto maximum length\n",
        "x_tr    =   pad_sequences(x_tr_seq,  maxlen=max_text_len, padding='post')\n",
        "x_val   =   pad_sequences(x_val_seq, maxlen=max_text_len, padding='post')\n",
        "\n",
        "#size of vocabulary ( +1 for padding token)\n",
        "x_voc   =  x_tokenizer.num_words + 1\n",
        "\n",
        "print(\"Size of vocabulary in X = {}\".format(x_voc))\n"
      ],
      "execution_count": 0,
      "outputs": [
        {
          "output_type": "stream",
          "text": [
            "Size of vocabulary in X = 34016\n"
          ],
          "name": "stdout"
        }
      ]
    },
    {
      "cell_type": "code",
      "metadata": {
        "id": "zsvksIiPzX_2",
        "colab_type": "code",
        "colab": {}
      },
      "source": [
        "y_tokenizer = Tokenizer()   \n",
        "y_tokenizer.fit_on_texts(list(y_tr))"
      ],
      "execution_count": 0,
      "outputs": []
    },
    {
      "cell_type": "code",
      "metadata": {
        "id": "-ZugYc_GzcGt",
        "colab_type": "code",
        "outputId": "82c55404-fedc-4c80-ffbd-46fcccddba29",
        "colab": {
          "base_uri": "https://localhost:8080/",
          "height": 51
        }
      },
      "source": [
        "thresh_hold=6\n",
        "\n",
        "cnt=0\n",
        "tot_cnt=0\n",
        "freq=0\n",
        "tot_freq=0\n",
        "\n",
        "for key,value in y_tokenizer.word_counts.items():\n",
        "    tot_cnt=tot_cnt+1\n",
        "    tot_freq=tot_freq+value\n",
        "    if(value<thresh_hold):\n",
        "        cnt=cnt+1\n",
        "        freq=freq+value\n",
        "    \n",
        "print(\"% of rare words in vocabulary:\",(cnt/tot_cnt)*100)\n",
        "print(\"Total Coverage of rare words:\",(freq/tot_freq)*100)"
      ],
      "execution_count": 0,
      "outputs": [
        {
          "output_type": "stream",
          "text": [
            "% of rare words in vocabulary: 65.7238513045486\n",
            "Total Coverage of rare words: 3.428111673034545\n"
          ],
          "name": "stdout"
        }
      ]
    },
    {
      "cell_type": "code",
      "metadata": {
        "id": "GRMBK7x9ziYe",
        "colab_type": "code",
        "outputId": "1199e683-cd00-4bed-f0c2-b5c90826634d",
        "colab": {
          "base_uri": "https://localhost:8080/",
          "height": 34
        }
      },
      "source": [
        "y_tokenizer = Tokenizer(num_words=tot_cnt-cnt) \n",
        "y_tokenizer.fit_on_texts(list(y_tr))\n",
        "\n",
        "#convert text sequences into integer sequences (i.e one hot encode the text in Y)\n",
        "y_tr_seq    =   y_tokenizer.texts_to_sequences(y_tr) \n",
        "y_val_seq   =   y_tokenizer.texts_to_sequences(y_val) \n",
        "\n",
        "#padding zero upto maximum length\n",
        "y_tr    =   pad_sequences(y_tr_seq, maxlen=max_summary_len, padding='post')\n",
        "y_val   =   pad_sequences(y_val_seq, maxlen=max_summary_len, padding='post')\n",
        "\n",
        "#size of vocabulary\n",
        "y_voc  =   y_tokenizer.num_words +1\n",
        "print(\"Size of vocabulary in Y = {}\".format(y_voc))"
      ],
      "execution_count": 0,
      "outputs": [
        {
          "output_type": "stream",
          "text": [
            "Size of vocabulary in Y = 11877\n"
          ],
          "name": "stdout"
        }
      ]
    },
    {
      "cell_type": "code",
      "metadata": {
        "id": "ZBXlsgZN1Zir",
        "colab_type": "code",
        "colab": {}
      },
      "source": [
        "ind=[]\n",
        "for i in range(len(y_tr)):\n",
        "    cnt=0\n",
        "    for j in y_tr[i]:\n",
        "        if j!=0:\n",
        "            cnt=cnt+1\n",
        "    if(cnt==2):\n",
        "        ind.append(i)\n",
        "\n",
        "y_tr=np.delete(y_tr,ind, axis=0)\n",
        "x_tr=np.delete(x_tr,ind, axis=0)"
      ],
      "execution_count": 0,
      "outputs": []
    },
    {
      "cell_type": "code",
      "metadata": {
        "id": "qB7g1oeC1c_m",
        "colab_type": "code",
        "colab": {}
      },
      "source": [
        "ind=[]\n",
        "for i in range(len(y_val)):\n",
        "    cnt=0\n",
        "    for j in y_val[i]:\n",
        "        if j!=0:\n",
        "            cnt=cnt+1\n",
        "    if(cnt==2):\n",
        "        ind.append(i)\n",
        "\n",
        "y_val=np.delete(y_val,ind, axis=0)\n",
        "x_val=np.delete(x_val,ind, axis=0)"
      ],
      "execution_count": 0,
      "outputs": []
    },
    {
      "cell_type": "code",
      "metadata": {
        "id": "ykzP16aY1l2_",
        "colab_type": "code",
        "outputId": "d59e25dd-46e5-4f60-fbc3-39153e462c47",
        "colab": {
          "base_uri": "https://localhost:8080/",
          "height": 598
        }
      },
      "source": [
        "from keras import backend as K \n",
        "import gensim\n",
        "from numpy import *\n",
        "import numpy as np\n",
        "import pandas as pd \n",
        "import re\n",
        "from bs4 import BeautifulSoup\n",
        "from keras.preprocessing.text import Tokenizer \n",
        "from keras.preprocessing.sequence import pad_sequences\n",
        "from nltk.corpus import stopwords\n",
        "from tensorflow.keras.layers import Input, LSTM, Embedding, Dense, Concatenate, TimeDistributed\n",
        "from tensorflow.keras.models import Model\n",
        "from tensorflow.keras.callbacks import EarlyStopping\n",
        "import warnings\n",
        "pd.set_option(\"display.max_colwidth\", 200)\n",
        "warnings.filterwarnings(\"ignore\")\n",
        "\n",
        "print(\"Size of vocabulary from the w2v model = {}\".format(x_voc))\n",
        "\n",
        "K.clear_session()\n",
        "\n",
        "latent_dim = 300\n",
        "embedding_dim=200\n",
        "\n",
        "# Encoder\n",
        "encoder_inputs = Input(shape=(max_text_len,))\n",
        "\n",
        "#embedding layer\n",
        "enc_emb =  Embedding(x_voc, embedding_dim,trainable=True)(encoder_inputs)\n",
        "\n",
        "#encoder lstm 1\n",
        "encoder_lstm1 = LSTM(latent_dim,return_sequences=True,return_state=True,dropout=0.4,recurrent_dropout=0.4)\n",
        "encoder_output1, state_h1, state_c1 = encoder_lstm1(enc_emb)\n",
        "\n",
        "#encoder lstm 2\n",
        "encoder_lstm2 = LSTM(latent_dim,return_sequences=True,return_state=True,dropout=0.4,recurrent_dropout=0.4)\n",
        "encoder_output2, state_h2, state_c2 = encoder_lstm2(encoder_output1)\n",
        "\n",
        "#encoder lstm 3\n",
        "encoder_lstm3=LSTM(latent_dim, return_state=True, return_sequences=True,dropout=0.4,recurrent_dropout=0.4)\n",
        "encoder_outputs, state_h, state_c= encoder_lstm3(encoder_output2)\n",
        "\n",
        "# Set up the decoder, using `encoder_states` as initial state.\n",
        "decoder_inputs = Input(shape=(None,))\n",
        "\n",
        "#embedding layer\n",
        "dec_emb_layer = Embedding(y_voc, embedding_dim,trainable=True)\n",
        "dec_emb = dec_emb_layer(decoder_inputs)\n",
        "\n",
        "decoder_lstm = LSTM(latent_dim, return_sequences=True, return_state=True,dropout=0.4,recurrent_dropout=0.2)\n",
        "decoder_outputs,decoder_fwd_state, decoder_back_state = decoder_lstm(dec_emb,initial_state=[state_h, state_c])\n",
        "\n",
        "#dense layer\n",
        "decoder_dense =  TimeDistributed(Dense(y_voc, activation='softmax'))\n",
        "decoder_outputs = decoder_dense(decoder_outputs)\n",
        "\n",
        "# Define the model \n",
        "model = Model([encoder_inputs, decoder_inputs], decoder_outputs)\n",
        "\n",
        "model.summary()"
      ],
      "execution_count": 0,
      "outputs": [
        {
          "output_type": "stream",
          "text": [
            "Size of vocabulary from the w2v model = 34016\n",
            "WARNING:tensorflow:Layer lstm will not use cuDNN kernel since it doesn't meet the cuDNN kernel criteria. It will use generic GPU kernel as fallback when running on GPU\n",
            "WARNING:tensorflow:Layer lstm_1 will not use cuDNN kernel since it doesn't meet the cuDNN kernel criteria. It will use generic GPU kernel as fallback when running on GPU\n",
            "WARNING:tensorflow:Layer lstm_2 will not use cuDNN kernel since it doesn't meet the cuDNN kernel criteria. It will use generic GPU kernel as fallback when running on GPU\n",
            "WARNING:tensorflow:Layer lstm_3 will not use cuDNN kernel since it doesn't meet the cuDNN kernel criteria. It will use generic GPU kernel as fallback when running on GPU\n",
            "Model: \"model\"\n",
            "__________________________________________________________________________________________________\n",
            "Layer (type)                    Output Shape         Param #     Connected to                     \n",
            "==================================================================================================\n",
            "input_1 (InputLayer)            [(None, 65)]         0                                            \n",
            "__________________________________________________________________________________________________\n",
            "embedding (Embedding)           (None, 65, 200)      6803200     input_1[0][0]                    \n",
            "__________________________________________________________________________________________________\n",
            "lstm (LSTM)                     [(None, 65, 300), (N 601200      embedding[0][0]                  \n",
            "__________________________________________________________________________________________________\n",
            "input_2 (InputLayer)            [(None, None)]       0                                            \n",
            "__________________________________________________________________________________________________\n",
            "lstm_1 (LSTM)                   [(None, 65, 300), (N 721200      lstm[0][0]                       \n",
            "__________________________________________________________________________________________________\n",
            "embedding_1 (Embedding)         (None, None, 200)    2375400     input_2[0][0]                    \n",
            "__________________________________________________________________________________________________\n",
            "lstm_2 (LSTM)                   [(None, 65, 300), (N 721200      lstm_1[0][0]                     \n",
            "__________________________________________________________________________________________________\n",
            "lstm_3 (LSTM)                   [(None, None, 300),  601200      embedding_1[0][0]                \n",
            "                                                                 lstm_2[0][1]                     \n",
            "                                                                 lstm_2[0][2]                     \n",
            "__________________________________________________________________________________________________\n",
            "time_distributed (TimeDistribut (None, None, 11877)  3574977     lstm_3[0][0]                     \n",
            "==================================================================================================\n",
            "Total params: 15,398,377\n",
            "Trainable params: 15,398,377\n",
            "Non-trainable params: 0\n",
            "__________________________________________________________________________________________________\n"
          ],
          "name": "stdout"
        }
      ]
    },
    {
      "cell_type": "code",
      "metadata": {
        "id": "htFMbQCr1rK9",
        "colab_type": "code",
        "colab": {}
      },
      "source": [
        "model.compile(optimizer='rmsprop', loss='sparse_categorical_crossentropy')\n",
        "es = EarlyStopping(monitor='val_loss', mode='min', verbose=1,patience=2)"
      ],
      "execution_count": 0,
      "outputs": []
    },
    {
      "cell_type": "code",
      "metadata": {
        "id": "KpTeErqG1ybM",
        "colab_type": "code",
        "outputId": "5f6e73da-2d71-4947-bb1e-c3866645914b",
        "colab": {
          "base_uri": "https://localhost:8080/",
          "height": 1000
        }
      },
      "source": [
        "history=model.fit([x_tr,y_tr[:,:-1]], y_tr.reshape(y_tr.shape[0],y_tr.shape[1], 1)[:,1:] ,epochs=50,callbacks=[es],batch_size=128, validation_data=([x_val,y_val[:,:-1]], y_val.reshape(y_val.shape[0],y_val.shape[1], 1)[:,1:]))\n"
      ],
      "execution_count": 0,
      "outputs": [
        {
          "output_type": "stream",
          "text": [
            "Epoch 1/50\n",
            "722/722 [==============================] - 531s 735ms/step - loss: 5.0731 - val_loss: 4.7263\n",
            "Epoch 2/50\n",
            "722/722 [==============================] - 481s 666ms/step - loss: 4.5525 - val_loss: 4.3123\n",
            "Epoch 3/50\n",
            "722/722 [==============================] - 506s 701ms/step - loss: 4.2144 - val_loss: 4.0673\n",
            "Epoch 4/50\n",
            "722/722 [==============================] - 506s 700ms/step - loss: 3.9935 - val_loss: 3.8988\n",
            "Epoch 5/50\n",
            "722/722 [==============================] - 503s 697ms/step - loss: 3.8264 - val_loss: 3.7707\n",
            "Epoch 6/50\n",
            "722/722 [==============================] - 486s 674ms/step - loss: 3.6941 - val_loss: 3.6784\n",
            "Epoch 7/50\n",
            "722/722 [==============================] - 505s 699ms/step - loss: 3.5832 - val_loss: 3.6000\n",
            "Epoch 8/50\n",
            "722/722 [==============================] - 449s 622ms/step - loss: 3.4863 - val_loss: 3.5344\n",
            "Epoch 9/50\n",
            "722/722 [==============================] - 446s 618ms/step - loss: 3.4031 - val_loss: 3.4842\n",
            "Epoch 10/50\n",
            "722/722 [==============================] - 442s 612ms/step - loss: 3.3322 - val_loss: 3.4425\n",
            "Epoch 11/50\n",
            "722/722 [==============================] - 444s 615ms/step - loss: 3.2698 - val_loss: 3.4074\n",
            "Epoch 12/50\n",
            "722/722 [==============================] - 441s 611ms/step - loss: 3.2143 - val_loss: 3.3787\n",
            "Epoch 13/50\n",
            "722/722 [==============================] - 440s 610ms/step - loss: 3.1648 - val_loss: 3.3622\n",
            "Epoch 14/50\n",
            "722/722 [==============================] - 440s 610ms/step - loss: 3.1208 - val_loss: 3.3370\n",
            "Epoch 15/50\n",
            "722/722 [==============================] - 442s 612ms/step - loss: 3.0806 - val_loss: 3.3243\n",
            "Epoch 16/50\n",
            "722/722 [==============================] - 441s 611ms/step - loss: 3.0433 - val_loss: 3.3057\n",
            "Epoch 17/50\n",
            "722/722 [==============================] - 453s 628ms/step - loss: 3.0092 - val_loss: 3.2876\n",
            "Epoch 18/50\n",
            "722/722 [==============================] - 455s 631ms/step - loss: 2.9714 - val_loss: 3.2804\n",
            "Epoch 19/50\n",
            "722/722 [==============================] - 443s 613ms/step - loss: 2.9368 - val_loss: 3.2599\n",
            "Epoch 20/50\n",
            "722/722 [==============================] - 455s 630ms/step - loss: 2.9074 - val_loss: 3.2574\n",
            "Epoch 21/50\n",
            "722/722 [==============================] - 445s 617ms/step - loss: 2.8834 - val_loss: 3.2470\n",
            "Epoch 22/50\n",
            "722/722 [==============================] - 446s 617ms/step - loss: 2.8583 - val_loss: 3.2377\n",
            "Epoch 23/50\n",
            "722/722 [==============================] - 445s 617ms/step - loss: 2.8335 - val_loss: 3.2308\n",
            "Epoch 24/50\n",
            "722/722 [==============================] - 445s 617ms/step - loss: 2.8102 - val_loss: 3.2286\n",
            "Epoch 25/50\n",
            "722/722 [==============================] - 444s 615ms/step - loss: 2.7901 - val_loss: 3.2309\n",
            "Epoch 26/50\n",
            "722/722 [==============================] - 446s 618ms/step - loss: 2.7693 - val_loss: 3.2220\n",
            "Epoch 27/50\n",
            "722/722 [==============================] - 446s 618ms/step - loss: 2.7470 - val_loss: 3.2131\n",
            "Epoch 28/50\n",
            "722/722 [==============================] - 447s 619ms/step - loss: 2.7246 - val_loss: 3.2127\n",
            "Epoch 29/50\n",
            "722/722 [==============================] - 447s 618ms/step - loss: 2.7070 - val_loss: 3.2087\n",
            "Epoch 30/50\n",
            "722/722 [==============================] - 446s 618ms/step - loss: 2.6905 - val_loss: 3.2162\n",
            "Epoch 31/50\n",
            "722/722 [==============================] - 447s 619ms/step - loss: 2.6742 - val_loss: 3.2145\n",
            "Epoch 00031: early stopping\n"
          ],
          "name": "stdout"
        }
      ]
    },
    {
      "cell_type": "code",
      "metadata": {
        "id": "V0PlIT3t106k",
        "colab_type": "code",
        "outputId": "5edeb45e-8062-4ccb-e928-8c91fb245bac",
        "colab": {
          "base_uri": "https://localhost:8080/",
          "height": 265
        }
      },
      "source": [
        "from matplotlib import pyplot\n",
        "pyplot.plot(history.history['loss'], label='train')\n",
        "pyplot.plot(history.history['val_loss'], label='test')\n",
        "pyplot.legend()\n",
        "pyplot.show()"
      ],
      "execution_count": 0,
      "outputs": [
        {
          "output_type": "display_data",
          "data": {
            "image/png": "[encoded data removed]",
            "text/plain": [
              "<Figure size 432x288 with 1 Axes>"
            ]
          },
          "metadata": {
            "tags": [],
            "needs_background": "light"
          }
        }
      ]
    },
    {
      "cell_type": "code",
      "metadata": {
        "id": "oJ8lyIhB2oOT",
        "colab_type": "code",
        "colab": {}
      },
      "source": [
        "reverse_target_word_index=y_tokenizer.index_word\n",
        "reverse_source_word_index=x_tokenizer.index_word\n",
        "target_word_index=y_tokenizer.word_index"
      ],
      "execution_count": 0,
      "outputs": []
    },
    {
      "cell_type": "code",
      "metadata": {
        "id": "p1cpOJ9e2t5I",
        "colab_type": "code",
        "colab": {}
      },
      "source": [
        "encoder_model = Model(inputs=encoder_inputs,outputs=[encoder_outputs, state_h, state_c])\n",
        "\n",
        "# Decoder setup\n",
        "# Below tensors will hold the states of the previous time step\n",
        "decoder_state_input_h = Input(shape=(latent_dim,))\n",
        "decoder_state_input_c = Input(shape=(latent_dim,))\n",
        "decoder_hidden_state_input = Input(shape=(max_text_len,latent_dim))\n",
        "\n",
        "# Get the embeddings of the decoder sequence\n",
        "dec_emb2= dec_emb_layer(decoder_inputs) \n",
        "# To predict the next word in the sequence, set the initial states to the states from the previous time step\n",
        "decoder_outputs2, state_h2, state_c2 = decoder_lstm(dec_emb2, initial_state=[decoder_state_input_h, decoder_state_input_c])\n",
        "\n",
        "# A dense softmax layer to generate prob dist. over the target vocabulary\n",
        "decoder_outputs2 = decoder_dense(decoder_outputs2) \n",
        "\n",
        "# Final decoder model\n",
        "decoder_model = Model(\n",
        "    [decoder_inputs] + [decoder_hidden_state_input,decoder_state_input_h, decoder_state_input_c],\n",
        "    [decoder_outputs2] + [state_h2, state_c2])"
      ],
      "execution_count": 0,
      "outputs": []
    },
    {
      "cell_type": "code",
      "metadata": {
        "id": "G1wcxvzP2ybO",
        "colab_type": "code",
        "colab": {}
      },
      "source": [
        "def decode_sequence(input_seq):\n",
        "    # Encode the input as state vectors.\n",
        "    e_out, e_h, e_c = encoder_model.predict(input_seq)\n",
        "    \n",
        "    # Generate empty target sequence of length 1.\n",
        "    target_seq = np.zeros((1,1))\n",
        "    \n",
        "    # Populate the first word of target sequence with the start word.\n",
        "    target_seq[0, 0] = target_word_index['sostok']\n",
        "\n",
        "    stop_condition = False\n",
        "    decoded_sentence = ''\n",
        "    while not stop_condition:\n",
        "      \n",
        "        output_tokens, h, c = decoder_model.predict([target_seq] + [e_out, e_h, e_c])\n",
        "\n",
        "        # Sample a token\n",
        "        sampled_token_index = np.argmax(output_tokens[0, -1, :])\n",
        "        sampled_token = reverse_target_word_index[sampled_token_index]\n",
        "        \n",
        "        if(sampled_token!='eostok'):\n",
        "            decoded_sentence += ' '+sampled_token\n",
        "\n",
        "        # Exit condition: either hit max length or find stop word.\n",
        "        if (sampled_token == 'eostok'  or len(decoded_sentence.split()) >= (max_summary_len-1)):\n",
        "            stop_condition = True\n",
        "\n",
        "        # Update the target sequence (of length 1).\n",
        "        target_seq = np.zeros((1,1))\n",
        "        target_seq[0, 0] = sampled_token_index\n",
        "\n",
        "        # Update internal states\n",
        "        e_h, e_c = h, c\n",
        "\n",
        "    return decoded_sentence"
      ],
      "execution_count": 0,
      "outputs": []
    },
    {
      "cell_type": "code",
      "metadata": {
        "id": "EI51tKki23MX",
        "colab_type": "code",
        "colab": {}
      },
      "source": [
        "def seq2summary(input_seq):\n",
        "    newString=''\n",
        "    for i in input_seq:\n",
        "        if((i!=0 and i!=target_word_index['sostok']) and i!=target_word_index['eostok']):\n",
        "            newString=newString+reverse_target_word_index[i]+' '\n",
        "    return newString\n",
        "\n",
        "def seq2text(input_seq):\n",
        "    newString=''\n",
        "    for i in input_seq:\n",
        "        if(i!=0):\n",
        "            newString=newString+reverse_source_word_index[i]+' '\n",
        "    return newString"
      ],
      "execution_count": 0,
      "outputs": []
    },
    {
      "cell_type": "code",
      "metadata": {
        "id": "k0mj_Bgk26n2",
        "colab_type": "code",
        "outputId": "2b1b9f4c-d549-4469-f10d-7404f072ecdf",
        "colab": {
          "base_uri": "https://localhost:8080/",
          "height": 1000
        }
      },
      "source": [
        "for i in range(0,100):\n",
        "    print(\"Review:\",seq2text(x_tr[i]))\n",
        "    print(\"Original summary:\",seq2summary(y_tr[i]))\n",
        "    print(\"Predicted summary:\",decode_sequence(x_tr[i].reshape(1,max_text_len)))\n",
        "    print(\"\\n\")"
      ],
      "execution_count": 0,
      "outputs": [
        {
          "output_type": "stream",
          "text": [
            "Review: beauty and wellness startup nykaa founder falguni nayar in recent interview has said it is too early for the startup to have an initial public offering ipo nayar added the online retailer is adequately funded for the next one year nayar also said she believes companies should have net profit of at least ã¢ââ¹100 crore before having an ipo \n",
            "Original summary: sos too early for ipo nykaa founder nayar eos \n",
            "Predicted summary:  sos we are too much for ipo co founder eos\n",
            "\n",
            "\n",
            "Review: as per reports television actor rajat will be playing the main lead in ekta kapoor tv remake of kabhi khushi kabhie gham k3g the show will reportedly be titled dil hi toh hai actors bijay anand geetanjali ritu vij and abhinav kapoor will also reportedly star in the remake \n",
            "Original summary: sos rajat in kabhi khushi tv remake report eos \n",
            "Predicted summary:  sos actress to star in remake of remake report eos\n",
            "\n",
            "\n",
            "Review: the release of the shraddha kapoor starrer haseena parkar which was scheduled for august 18 has been postponed director apoorva lakhia said we collectively decided to postpone the film so that it can get enough screens and worthy run at the box office earlier the film release was shifted to august 18 to reportedly avoid clash with jagga jasoos \n",
            "Original summary: sos release of shraddha kapoor haseena parkar postponed eos \n",
            "Predicted summary:  sos release date of shraddha kapoor starrer postponed eos\n",
            "\n",
            "\n",
            "Review: an indian origin security researcher with google mehta has found similarities between code used in wannacry ransomware cyber attack and tools believed to have been created by north korean hackers earlier mehta has published code which russian security firm has termed as the most significant clue to date over 150 countries including india were affected by the ransomware \n",
            "Original summary: sos indian origin researcher links ransomware attack to korea eos \n",
            "Predicted summary:  sos google india attack on cyber attack us attack eos\n",
            "\n",
            "\n",
            "Review: ecuador has decided to extend the political asylum granted to wikileaks founder julian assange amid fears for his safety there is no death penalty in ecuador so our country has the right to grant asylum to assange ecuadorean president lenin moreno said notably assange has been living in the ecuadorean embassy in london to avoid arrest since 2012 \n",
            "Original summary: sos ecuador extends assange asylum over fears for his life eos \n",
            "Predicted summary:  sos ecuador to assange over assange death eos\n",
            "\n",
            "\n",
            "Review: talking about windies batsman shimron hetmyer run out india all rounder ravindra jadeja said he thought hetmyer wouldn run towards the non striker end in such hot conditions sunil ambris and hetmyer were stranded at striker end when jadeja planned to walk rather than run to take the bails off jadeja stopped suddenly and threw the ball at stumps after hetmyer started sprinting \n",
            "Original summary: sos thought he won run in hot conditions jadeja on delaying run out eos \n",
            "Predicted summary:  sos jadeja run out on run out of run out on field eos\n",
            "\n",
            "\n",
            "Review: nasa has scrapped the only robotic vehicle under development to explore the lunar surface despite us president donald trump directing the space agency to send humans to the moon again in letter to the new trump nominated nasa chief project scientists expressed dismay as it would ve been the first ever us robotic rover on moon crucial for future manned mission \n",
            "Original summary: sos nasa cuts moon rover despite trump asking for manned mission eos \n",
            "Predicted summary:  sos nasa planning to send trump into moon eos\n",
            "\n",
            "\n",
            "Review: martin guptill the highest run scorer in t20i cricket 35 ball hundred for worcestershire against northamptonshire in the t20 blast tournament on friday the 31 year old opener slammed 12 fours and seven sixes in his 38 ball 102 run innings to help his team chase down the 188 run target in 13 1 overs guptill ton is the joint fourth fastest in t20 history \n",
            "Original summary: sos t20i history top run getter hits 100 off 35 balls in t20 eos \n",
            "Predicted summary:  sos record for most runs in an over 50 run test run eos\n",
            "\n",
            "\n",
            "Review: sushmita sen said she has stopped giving opinions on rapes while adding we talk protest but we don come up with concrete outcome on these issues she said in the entire world there re unfair things happening we forget things just by feeling sad about it sushmita also suggested that men who support women should be highlighted more than the ones who commit crimes \n",
            "Original summary: sos we talk protest but don find sushmita on rapes eos \n",
            "Predicted summary:  sos we are not rape we are not protect me rapes eos\n",
            "\n",
            "\n",
            "Review: pakistan media regulator on saturday banned all private tv channels from covering security operation at faizabad live also restricting social networking websites including facebook and twitter the order came as authorities began crackdown on protesters who have blocked main routes into islamabad for more than two weeks demanding the removal of the country law minister zahid hamid \n",
            "Original summary: sos media out in pakistan amid crackdown on protesters eos \n",
            "Predicted summary:  sos pakistan bans media on social media amid protests eos\n",
            "\n",
            "\n",
            "Review: new zealand prime minister jacinda ardern became the first female world leader to attend the united nations general assembly with newborn ardern was seen kissing and playing with her three month old daughter before her address her partner clarke was seen holding the infant while ardern spoke at the 73rd un general assembly in new york us \n",
            "Original summary: sos nz pm 1st female world leader to attend with baby eos \n",
            "Predicted summary:  sos world 1st female leader to pm modi 1st ever wedding eos\n",
            "\n",
            "\n",
            "Review: the senior national selectors have named two india squads for the five match one day series against new zealand following coach rahul dravid suggestion of not pulling players out of ranji trophy the players would have missed at least two rounds of ranji if single team was picked for the matches and the warm up matches against new zealand \n",
            "Original summary: sos dravid asks selectors to pick indian teams for nz series eos \n",
            "Predicted summary:  sos dravid dravid named team india for team eos\n",
            "\n",
            "\n",
            "Review: the indira gandhi international airport in new delhi is set to get new runway elevated taxiway and an internal rail system delhi international airport limited which operates the airport recently unveiled its master plan to develop the airport several flights will be shifted to terminal so the airport can undergo renovations \n",
            "Original summary: sos delhi airport to get rail system new terminal and runway eos \n",
            "Predicted summary:  sos delhi airport to get new new delhi airport eos\n",
            "\n",
            "\n",
            "Review: a british teenager has pleaded guilty to hacking into computers belonging to ex us president barack obama national security adviser and his senior science and technology adviser john the teenager who also hacked the computer of an ex cia director has admitted to 10 charges of hacking however the teenager legal representative has claimed that his client is autistic nnn \n",
            "Original summary: sos uk teen pleads guilty to hacking ex obama aides computers eos \n",
            "Predicted summary:  sos us teen claims he was hacked by obama eos\n",
            "\n",
            "\n",
            "Review: a man from australia is auctioning off an empty bag on ebay claiming it carries air from singer adele concert there in march the contains label that reads legit bag of air content adele 13 3 2017 adelaide oval the listing reads true fan must have this air and bids have currently reached au 1 850 nearly ã¢ââ¹93 000 \n",
            "Original summary: sos bag of air from adele concert being auctioned off eos \n",
            "Predicted summary:  sos man air india assaulted by sell for over london show eos\n",
            "\n",
            "\n",
            "Review: a pharmacy owner in kerala thiruvananthapuram paid an auction price of ã¢ââ¹18 lakh for fancy vehicle registration number on monday the man clinched the number kl 01 cb for his toyota land cruiser the regional transport office had put up as many as 27 fancy numbers for auction which received 210 applications \n",
            "Original summary: sos man pays ã¢ââ¹18 lakh for fancy registration number in kerala eos \n",
            "Predicted summary:  sos man pays for kerala floods gets ã¢ââ¹5 lakh for eos\n",
            "\n",
            "\n",
            "Review: adolf hitler was nominated for the nobel peace prize in 1939 he was nominated by member of the swedish parliament who did not intend the nomination to be taken seriously the nomination of hitler meant as criticism was however not well received and was withdrawn in letter dated february 1939 \n",
            "Original summary: sos hitler was once nominated for nobel peace prize as joke eos \n",
            "Predicted summary:  sos nobel prize was not hitler nobel prize was eos\n",
            "\n",
            "\n",
            "Review: journalist ram chander chhatrapati was shot dead outside his home in 2002 months after he published anonymous letters exposing the rapes of two women at dera headquarters in haryana sirsa his murder case is being heard by the same cbi court in panchkula which on friday held dera chief gurmeet ram rahim guilty of raping the women \n",
            "Original summary: sos journalist who exposed ram rahim rape case was shot dead eos \n",
            "Predicted summary:  sos journalist who shot dead inside the journalist in haryana eos\n",
            "\n",
            "\n",
            "Review: actor hrithik roshan has said that he would consider marathi actress for the film krrish he added that the makers are currently working on the script and they are yet to reach the stage of casting the lead actress krrish is superhero film series which began with the 2003 film koi mil gaya \n",
            "Original summary: sos will consider marathi actress for krrish hrithik roshan eos \n",
            "Predicted summary:  sos i am to be part of hrithik kapoor eos\n",
            "\n",
            "\n",
            "Review: maharashtra navnirman sena mns chief raj thackeray on saturday said why do we need terrorists or enemies like pakistan it seems that our own railways are enough to kill people he further said until the present infrastructure of the local railways is made better not single brick will be allowed to be placed for bullet train in mumbai \n",
            "Original summary: sos we don need pak our railways is enough to kill thackeray eos \n",
            "Predicted summary:  sos we don want to kill our soldiers aamir khan eos\n",
            "\n",
            "\n",
            "Review: nasa missions have found that plasma waves formed by fluctuating electric and magnetic fields likely cause electrons to flood into earth atmosphere the fluctuations are known as waves due to their sounds charged particles trapped by earth magnetic field in the van allen belts shown in green sometimes escape to create colourful auroras near earth poles \n",
            "Original summary: sos nasa explains how high energy particles enter the atmosphere eos \n",
            "Predicted summary:  sos nasa study reveals how earth are like earth eos\n",
            "\n",
            "\n",
            "Review: janhvi kapoor will reportedly perform on late actress and her mother sridevi songs at her cousin and actress sonam kapoor wedding sangeet as per reports she will perform on songs like mere mein kisi ke haath na ye ladki sonam will reportedly get married to her rumoured boyfriend anand ahuja on may 8 \n",
            "Original summary: sos janhvi to dance on sridevi songs at sonam sangeet reports eos \n",
            "Predicted summary:  sos janhvi to star together in sridevi for sridevi report eos\n",
            "\n",
            "\n",
            "Review: actress malaika arora cancelled an appearance at fashion event in australia over non payment of dues as per reports the organisers had promised to pay her the full amount before wednesday since they did not honour their commitment malaika declined to go reports said however the organisers said the issue has been sorted and the event has been rescheduled \n",
            "Original summary: sos malaika backs out of event over non payment of dues report eos \n",
            "Predicted summary:  sos aishwarya faces non payment of non payment of dues reports eos\n",
            "\n",
            "\n",
            "Review: actress sonam kapoor look for her mehendi function was shared by stylist anaita adajania shroff on instagram sonam is seen in white and gold lehenga by designer duo abu jani sandeep khosla her husband to be anand ahuja was also seen in white and gold outfit as the dress code for the mehendi was indian festive shades of white \n",
            "Original summary: sos sonam kapoor wears white and gold lehenga for mehendi event eos \n",
            "Predicted summary:  sos sonam kapoor wears sonam dance to her in her eos\n",
            "\n",
            "\n",
            "Review: a signed letter written by albert einstein to his friend michele expressing joy at the success of his theory of relativity has fetched nearly ã¢ââ¹70 lakh at an auction the dreams have now been fulfilled einstein wrote in the letter the letter dated december 10 1915 was originally estimated to be worth nearly ã¢ââ¹20 lakh \n",
            "Original summary: sos einstein letter on auctioned for ã¢ââ¹70 lakh eos \n",
            "Predicted summary:  sos einstein letter on sale of letter for auction eos\n",
            "\n",
            "\n",
            "Review: child actor sunny pawar who featured in the oscar nominated film lion has been named the rising star at the 7th annual asian awards he portrayed young in the film it is that other award ceremonies overlooked sunny performance in the film lion and we want to correct that said the founder of the asian awards n \n",
            "Original summary: sos lion actor sunny pawar named rising star at asian awards eos \n",
            "Predicted summary:  sos sunny leone wins award at star awards eos\n",
            "\n",
            "\n",
            "Review: a second year college student who was with her fiance on her way back after visiting temple was sexually assaulted by six men in odisha ganjam district on monday she was allegedly raped by one of the accused while the others recorded the act on their phones reports said police said the victim knew two or three of the accused \n",
            "Original summary: sos college student sexually assaulted by men assault filmed eos \n",
            "Predicted summary:  sos student of sexually assaulted by student in odisha eos\n",
            "\n",
            "\n",
            "Review: ecuador ruling party presidential candidate lenin moreno on monday won the country presidential elections securing 51 votes against his conservative opponent guillermo lasso moreno victory came as relief for wikileaks founder julian assange as lasso had vowed to evict him from the nation london embassy if he won the \n",
            "Original summary: sos ecuador wins presidential race relief for assange eos \n",
            "Predicted summary:  sos assange wins prez wins seat for prez candidate eos\n",
            "\n",
            "\n",
            "Review: slamming yo yo test as the sole fitness criteria for team india selection world cup winning captain kapil dev said even football legend diego maradona wasn the fastest runner but whenever he had the ball he was the fastest if player is match fit he should be playing and there should not be any other criteria the indian cricketing legend added \n",
            "Original summary: sos even maradona wasn the fastest kapil dev slams yo yo test eos \n",
            "Predicted summary:  sos not making the kapil on dev is like ex captain eos\n",
            "\n",
            "\n",
            "Review: talking about playing the lead in the biopic on shiv sena founder bal thackeray actor nawazuddin siddiqui said think any actor would have agreed to play his role nawazuddin added don think balasaheb life can be shown in three hours he further suggested that the late leader life should be shown in web series with many episodes \n",
            "Original summary: sos any actor would ve agreed to play bal thackeray nawazuddin eos \n",
            "Predicted summary:  sos i would have to play in biopic nawazuddin on biopic eos\n",
            "\n",
            "\n",
            "Review: actress neha dhupia has said that she literally slept in her bed with the award she received at recent awards ceremony the night she received it ve been around in the industry for too long and ve always been on stage giving away awards and ve never been on stage to receive it it feels really amazing added neha \n",
            "Original summary: i slept with the award in my bed the night got it neha eos \n",
            "Predicted summary:  sos i was at the award for the time of actress eos\n",
            "\n",
            "\n",
            "Review: after bjp ended its alliance with pdp in jammu and kashmir bjp general secretary ram madhav said the bjp sacrificed its government for larger national interest he also added that the bjp is not abandoning kashmir we tried for two years but it was no longer every alliance has uncertainty built into it he further said \n",
            "Original summary: sos government but did not abandon kashmir says bjp eos \n",
            "Predicted summary:  sos bjp govt alliance for bjp alliance for power cuts eos\n",
            "\n",
            "\n",
            "Review: mor mukut sharma doordarshan crew member who survived the naxal attack in chhattisgarh dantewada district on tuesday recorded video message for his mother while they were being attacked mummy if don survive this incident just want you to know love you very much chances are will be killed in this attack he says in the video \n",
            "Original summary: i may not survive dd crew survivor in video to mother amid attack eos \n",
            "Predicted summary:  sos i have been used to my mother and survivor eos\n",
            "\n",
            "\n",
            "Review: the t20 world cup 2020 is set to be icc first tournament since world cup 2011 to not feature an india pakistan group match india opening match is against south africa on october 24 this will be the first time that the men and women tournaments will be held as standalone events in the same country and in the same year \n",
            "Original summary: sos t20 world cup 2020 to not feature india pak group phase match eos \n",
            "Predicted summary:  sos icc to play icc xi in world cup for 2019 wc reports eos\n",
            "\n",
            "\n",
            "Review: in the un security council emergency meeting over the syrian chemical attack britain france and the united states presented draft resolution accusing the syrian government of the attack and demanded full investigation into it however russia defended its ally and said the text of the draft was categorically unacceptable \n",
            "Original summary: sos un sc calls for probe into syria chemical attack eos \n",
            "Predicted summary:  sos un syria calls for syria chemical attack on syria eos\n",
            "\n",
            "\n",
            "Review: a 22 year old man in delhi confessed to murdering his wife after being detained for questioning over suspicion of his involvement in the kidnapping of two girls said police officer he started running when he saw officers who had put the area on lockdown he was nabbed following which he confessed to suspecting his wife of infidelity and strangling her \n",
            "Original summary: sos held on suspicion of abducting girls man admits he killed wife eos \n",
            "Predicted summary:  sos man kills wife after being caught on his wife eos\n",
            "\n",
            "\n",
            "Review: industrialist vinay mittal wanted in bank fraud cases worth ã¢ââ¹40 crore has been extradited to india from indonesia on cbi request mittal was arrested by indonesian authorities in january 2017 on the basis of red corner notice the cbi had registered cases against mittal in 2014 and 2016 on the request of corporation bank and punjab national bank \n",
            "Original summary: sos vinay mittal wanted in ã¢ââ¹40 crore bank frauds to india eos \n",
            "Predicted summary:  sos ed sheeran seeks ã¢ââ¹1 cr in india bank scam case eos\n",
            "\n",
            "\n",
            "Review: indian captain sunil chhetri who posted plea to indian people to show up for matches took to twitter to thank the fans for the sold out stands during india 3 0 win over kenya in his plea chhetri had urged people to please come and watch us in the stadiums abuse us criticise us but please get involved \n",
            "Original summary: sos chhetri thanks fans for sold out stands for india match eos \n",
            "Predicted summary:  sos chhetri offers to buy sunil chhetri on his india eos\n",
            "\n",
            "\n",
            "Review: a mumbai man sarcastic tweets on an uber driver who started trip without picking him up has gone viral the man kept tracking the uber driver named just and tweeted his whereabouts like has stopped at church hope he going to confess his sins he was charged 43 for the trip which uber later refunded \n",
            "Original summary: sos mumbai man tweets on uber ride that started without him go viral eos \n",
            "Predicted summary:  sos man who got uber ceo arrested for driving eos\n",
            "\n",
            "\n",
            "Review: punjab national bank customer service point in charge was abducted and killed by unidentified assailants in bihar gaya district this comes two days after an industrialist was shot dead in vaishali district by an unidentified assailant the back to back killings led to violent protest by villagers while congress and rjd are blaming the nitish kumar led state government for the rise in crime \n",
            "Original summary: sos pnb officer killed days after murder in bihar eos \n",
            "Predicted summary:  sos bihar govt shot dead in bihar after suicide eos\n",
            "\n",
            "\n",
            "Review: turkmenistan president gurbanguly berdimuhamedov on wednesday gifted central asian shepherd puppy to russian president vladimir putin to mark his 65th birthday which he celebrated on october the central asian shepherd breed is officially listed as part of turkmenistan national heritage notably putin is known to be dog lover \n",
            "Original summary: sos turkmenistan prez gifts dog to russia prez on his birthday eos \n",
            "Predicted summary:  sos gifts to ivanka trump son on birthday eos\n",
            "\n",
            "\n",
            "Review: china under its weapon development program is reportedly building the world fastest wind tunnel to simulate hypersonic flights of 12 kilometres second which could carry an aircraft to the us within 14 minutes the tunnel would detonate of oxygen hydrogen and nitrogen to generate aircraft testing shockwaves hypersonic aircraft can cross speeds of five times the speed of sound \n",
            "Original summary: sos china making fastest wind tunnel to test weapons eos \n",
            "Predicted summary:  sos china building fastest to build world largest solar system eos\n",
            "\n",
            "\n",
            "Review: billionaire elon musk met with hawthorne mayor alex vargas this week to discuss the tunnel being dug by the boring company to help commuters avoid traffic the two toured the los angeles facility on which work began in may this year musk recently revealed that he had verbal approval to build hyperloop tunnel connecting new york to washington dc \n",
            "Original summary: sos elon musk meets us official to discuss boring company tunnel eos \n",
            "Predicted summary:  sos musk meets elon musk to visit dog in bengaluru eos\n",
            "\n",
            "\n",
            "Review: real madrid player cristiano ronaldo surprised english striker jamie vardy stepson by sending him signed real madrid jersey vardy partner shared picture on instagram of six year old taylor holding the madrid shirt signed by the ballon or winner now that one lucky boy thank you cristiano for making this little boy so happy read the caption \n",
            "Original summary: sos ronaldo sends signed real madrid jersey to eos \n",
            "Predicted summary:  sos ronaldo sends real madrid to name footballer eos\n",
            "\n",
            "\n",
            "Review: calling the delhi government decision to cancel max hospital licence irrational and autocratic the delhi medical association has threatened to go on strike it said that the government should have waited for the report by the delhi medical council dmc max hospital licence was cancelled after it declared an alive baby dead \n",
            "Original summary: sos threatens strike over max hospital licence cancellation eos \n",
            "Predicted summary:  sos delhi govt asks delhi to stop strike from hospital eos\n",
            "\n",
            "\n",
            "Review: on demand grocery delivery startup bigbasket has begun merger talks with smaller rival grofers according to reports grofers existing investor softbank is said to participate in 60 100 million funding round in the merged entity the reports added bigbasket is hoping for valuation of at least 700 800 million while grofers could be valued at 150 200 million \n",
            "Original summary: sos bigbasket and grofers have merger talks reports eos \n",
            "Predicted summary:  sos bigbasket in talks with acquire merger talks reports eos\n",
            "\n",
            "\n",
            "Review: the government has appointed non executive chairpersons for three state run banks based on the suggestions of banks board bureau former rbi director charan singh has been appointed at punjab bank anjali bansal former md of tpg private equity has been appointed at dena bank while former corporate affairs secretary tapan ray will take charge at central bank of india \n",
            "Original summary: sos govt appoints for three state run banks eos \n",
            "Predicted summary:  sos rbi appoints ex rbi deputy governor for state run eos\n",
            "\n",
            "\n",
            "Review: an unknown number of paintings from 200 crore collection including works of artists like mf husain and jatin das have gone missing from air india headquarters in mumbai union minister jayant sinha said the government was looking into allegations of the paintings going missing the airline reportedly wanted to open public museum where the paintings would be showcased \n",
            "Original summary: sos paintings from 200 cr collection go missing at air india hq eos \n",
            "Predicted summary:  sos ã¢ââ¹1 cr budget at mumbai airport found dead at govt eos\n",
            "\n",
            "\n",
            "Review: the 2g spectrum scam which the cag claimed caused ã¢ââ¹1 76 lakh crore loss to the national exchequer involved sun tv maran brothers executives from reliance including its president surendra and senior vice president hari nair swan telecom promoters vinod goenka and shahid usman and unitech managing director sanjay chandra were also named as accused \n",
            "Original summary: sos who were the named in the 2g spectrum scam eos \n",
            "Predicted summary:  sos who were the biggest cbi raids in the raids eos\n",
            "\n",
            "\n",
            "Review: richa chadha and mrunal thakur starrer love sonia which released today has picked an important issue of our times wrote hindustan times ht the times of india toi said the film has been told sincerely india today wrote it gives realistic treatment to sex trafficking victims lives it has been rated 3 5 5 ht 3 5 toi and 2 5 5 india today \n",
            "Original summary: sos richa chadha thakur starrer love sonia hits theatres eos \n",
            "Predicted summary:  sos richa chadha richa chadha starrer hits theatres eos\n",
            "\n",
            "\n",
            "Review: the intelligence bureau has transferred around 500 officers to different states as part of routine exercise officials said ib officers posted in the same division for 20 years and police personnel serving in the same station for five years were transferred officials denied reports which claimed that the transfers were ordered in view of the 2019 general elections \n",
            "Original summary: sos intelligence bureau transfers 500 officers eos \n",
            "Predicted summary:  sos 500 500 officers of officers in public eos\n",
            "\n",
            "\n",
            "Review: opposing the national medical commission bill around 2 9 lakh doctors associated with the indian medical association are observing 12 hour strike till pm today across the country private hospitals doctors claim the bill seeking to replace the medical council of india with new body is anti poor while services will be affected emergency cases will be provided treatment \n",
            "Original summary: sos 2 9 lakh doctors go on nationwide strike against bill eos \n",
            "Predicted summary:  sos 1 000 doctors go on strike from tn govt hospital eos\n",
            "\n",
            "\n",
            "Review: canada on friday announced tariffs on us imports worth over 12 billion the tariffs were imposed on items including coffee ketchup and whisky as well as steel and aluminium products canada move came in retaliation to the 25 and 10 respective tariffs on its steel and aluminium imports imposed by the us \n",
            "Original summary: sos canada imposes retaliatory tariffs on us imports worth eos \n",
            "Predicted summary:  sos canada imposes tariffs on canada imports worth 20 bn eos\n",
            "\n",
            "\n",
            "Review: the india today axis opinion poll has predicted that the bjp is expected to secure majority in the 403 member uttar pradesh assembly by winning between 206 216 seats the poll further claimed that the samajwadi party may emerge as the second largest party by bagging between 92 97 seats followed by bsp with 79 85 seats the poll gave 5 9 seats to congress \n",
            "Original summary: sos bjp to secure majority by winning seats in up poll eos \n",
            "Predicted summary:  sos bjp will win seats in up assembly polls in up eos\n",
            "\n",
            "\n",
            "Review: a family in kerala village was recently saved from landslide after their alert pet dog raised an alarm the family was sleeping when the dog started barking at around am and one of them went outside to check on him they then realised about the impending landslide and rushed out just before it hit their house \n",
            "Original summary: sos pet dog saves family from landslide in kerala floods eos \n",
            "Predicted summary:  sos dog saves dog from family in kerala eos\n",
            "\n",
            "\n",
            "Review: according to unique identification authority of india data over 25 of sim cards have been linked with aadhaar till july notably linking of aadhaar number with sim card has been made mandatory for all citizens by the government reportedly the government plans to deactivate sim cards not linked to aadhaar by february 2018 \n",
            "Original summary: sos over 25 of sim cards linked to aadhaar so far uidai eos \n",
            "Predicted summary:  sos aadhaar number of aadhaar cards not linked to aadhaar reports eos\n",
            "\n",
            "\n",
            "Review: samajwadi party leader and former uttar pradesh chief minister akhilesh yadav on saturday said when petrol can be stolen from remote by chip without any internet connection then it can happen in an evm also yadav who lost the recent up assembly polls said that we have to stop the misuse of technology \n",
            "Original summary: sos if petrol can be stolen why can evms be hacked akhilesh eos \n",
            "Predicted summary:  sos if you can be stolen if petrol stolen akhilesh yadav eos\n",
            "\n",
            "\n",
            "Review: as per reports actor salman khan rumoured girlfriend iulia vantur will make her bollywood debut with the upcoming film dabangg according to sources she won replace lead actress sonakshi sinha but director arbaaz khan has an interesting role for her earlier salman had revealed that the film will be prequel showing how chulbul pandey becomes chulbul pandey \n",
            "Original summary: sos salman rumoured girlfriend iulia part of dabangg report eos \n",
            "Predicted summary:  sos salman to make debut with salman reports eos\n",
            "\n",
            "\n",
            "Review: the delhi government on friday approved proposal for procuring 000 new non ac standard floor buses including 000 for the state run delhi transport corporation dtc the dtc would be responsible for maintaining its new fleet which will be rolled out within year transport minister kailash gahlot said earlier dtc buses were maintained by the company supplying the vehicles \n",
            "Original summary: sos delhi govt approves proposal to acquire 000 new buses eos \n",
            "Predicted summary:  sos delhi govt approves buses to be fined for 000 km eos\n",
            "\n",
            "\n",
            "Review: children living in bihar specialised adoption agencies are verbally abused and often locked in bathrooms as per report by tata institute of social sciences tiss which conducted audit of over 20 adoption centres sometimes child was medicated twice or not medicated due to neglect or lack of staff said an official who led the team that made the report \n",
            "Original summary: sos kids in bihar adoption centres verbally abused report eos \n",
            "Predicted summary:  sos kids in bihar school kids report eos\n",
            "\n",
            "\n",
            "Review: ishaan khatter on being compared with his half brother shahid kapoor said he doesn think he better dancer than shahid can make these comparisons myself ve learnt so much from bhai shahid just by being around him that just can do that he added it movies one of the things we bond over besides dancing he further said \n",
            "Original summary: sos i don think better dancer than shahid ishaan khatter eos \n",
            "Predicted summary:  sos shahid is like like shahid kapoor eos\n",
            "\n",
            "\n",
            "Review: the supreme court will hear on november 19 plea challenging the clean chit given to pm narendra modi in the 2002 gujarat riots that took place during his tenure as the cm jafri the wife of former mp ehsan jafri who was killed in the riots filed the plea challenging the gujarat hc order upholding the clean chit \n",
            "Original summary: sc to hear plea against clean chit to pm modi in 2002 riots eos \n",
            "Predicted summary:  sos sc to hear plea against pm modi in guj riots case eos\n",
            "\n",
            "\n",
            "Review: actor shah rukh khan shared picture with actress katrina kaif to welcome her on instagram instagram will be so much prettier now please welcome my friend the lovely katrinakaif read the caption alongside the picture notably shah rukh and katrina worked together in the 2012 film jab tak hai jaan directed by late yash chopra \n",
            "Original summary: sos it ll be much now srk on katrina joining instagram eos \n",
            "Predicted summary:  sos i will be the best srk on katrina kaif eos\n",
            "\n",
            "\n",
            "Review: north korea nuclear tests are causing among newborn babies defectors who used to live in the country have claimed almost 80 of the trees planted at north korea nuclear site have died and underground wells have run dry due to nuclear radiation they added north korea has conducted six nuclear tests since 2006 despite international condemnation and sanctions \n",
            "Original summary: sos n korea nuclear tests causing babies eos \n",
            "Predicted summary:  sos n korea tests its birth of child birth anniversary eos\n",
            "\n",
            "\n",
            "Review: the decomposed body of class female student was found hanging from the ceiling fan of her hostel room in mysuru on sunday the girl was feeling guilty as she had spent night with her boyfriend after returning from school trip reports said the warden of the hostel has been suspended and the boy has been booked \n",
            "Original summary: sos class girl kills self after spending night with boyfriend eos \n",
            "Predicted summary:  sos class girl found hanging from hostel room in hostel eos\n",
            "\n",
            "\n",
            "Review: uttar pradesh chief minister yogi adityanath has planned cleanliness campaign around taj mahal along with 500 bjp workers on october 26 on his first visit to taj mahal after coming to power cm yogi will also visit shah jahan park near the monument he ll also lay the foundation stone for tourist pathway from taj mahal to agra fort \n",
            "Original summary: sos up govt plans cleanliness drive around taj mahal eos \n",
            "Predicted summary:  sos yogi adityanath orders taj mahal statue in taj mahal eos\n",
            "\n",
            "\n",
            "Review: while claiming that the pass percentage of delhi government schools for class 12 board exams is 9 more than the private institutions manish sisodia mistakenly used the all india private schools pass percentage which is 79 27 for the comparison the pass percentage of delhi private schools is 84 2 which means the lead for delhi government schools is nearly 4 \n",
            "Original summary: sos did delhi govt schools fare better than private ones eos \n",
            "Predicted summary:  sos delhi schools have no schools for class 10 board exams eos\n",
            "\n",
            "\n",
            "Review: serbia is preparing lawsuit against nato over its alleged use of depleted uranium munitions during its three month bombing of 18 years ago during the kosovo war adding the bombings caused an environmental catastrophe and increased cancer related illnesses across the region over the years lawyers claimed that 33 000 people fall sick every year due to the environmental effects \n",
            "Original summary: sos serbia to sue nato over uranium bombs after 18 yrs eos \n",
            "Predicted summary:  sos south africa to pay 11 over war against nuclear weapons eos\n",
            "\n",
            "\n",
            "Review: the bombay high court on monday summoned the maharashtra women and child development secretary after 42 children went missing over the last three years from mumbai remand home the court criticised the maharashtra government for lack of pro active action in the matter the bombay high court is hearing pil on the allegations of corruption in the remand home \n",
            "Original summary: sos hc summons wcd secretary after 42 kids flee remand home eos \n",
            "Predicted summary:  sos hc summons maha govt in school days after missing school eos\n",
            "\n",
            "\n",
            "Review: up shia waqf board chairman waseem rizvi on friday said that those who are against the construction of ram mandir in ayodhya should go to pakistan and bangladesh those who want to spread in the name of babri mosque must go and join isis he added he further alleged that fundamentalist muslim clerics are trying to destroy the country \n",
            "Original summary: sos those opposing ram mandir should go to pak shia board chief eos \n",
            "Predicted summary:  sos ram mandir should be held for muslims in pak army chief eos\n",
            "\n",
            "\n",
            "Review: conrad sangma the chief of the national people party was sworn in as the new chief minister of meghalaya on tuesday he will be leading an alliance of the npp bjp united democratic party udp hill state people democratic party and others notably the npp had secured 19 seats in the assembly elections while the congress had secured 21 \n",
            "Original summary: sos sworn in as meghalaya chief minister eos \n",
            "Predicted summary:  sos singh sworn in as chief minister of meghalaya assembly eos\n",
            "\n",
            "\n",
            "Review: sunrisers hyderabad mentor vvs laxman has revealed that his children cried when they got to know that david warner was banned from indian premier league 2018 over the ball tampering scandal both my kids are warner fans and they know the importance of warner for sunrisers the moment they saw the headlines they started crying and was surprised he added \n",
            "Original summary: sos my kids cried when warner was banned from ipl vvs laxman eos \n",
            "Predicted summary:  sos i was forced to see my kids warner on pitch eos\n",
            "\n",
            "\n",
            "Review: security forces in jammu and kashmir have killed 102 terrorists till july 12 this year making it the highest number of killings in the january july period in seven years earlier in 2010 the highest number of 156 militants were killed between january and july while 77 terrorists were killed during this period in 2016 \n",
            "Original summary: sos 102 terrorists killed in till july highest in years eos \n",
            "Predicted summary:  sos only terrorists killed in encounter in kashmir highest in years eos\n",
            "\n",
            "\n",
            "Review: gauri khan took to instagram to share an old picture of herself with husband shah rukh khan love this retro look read gauri caption alongside the picture shah rukh and gauri dated for about six years before getting married in 1991 they have three kids together aryan suhana and abram \n",
            "Original summary: sos love this look gauri on pic with husband shah rukh eos \n",
            "Predicted summary:  sos gauri shares pic with srk and gauri gauri lankesh eos\n",
            "\n",
            "\n",
            "Review: in the first meeting of the us led coalition of 68 countries since december 2014 us secretary of state rex tillerson said that defeating terrorist group islamic state is the number one us goal in the region the coalition will focus on regional elimination of isis through military force tillerson added notably president donald trump pledged to demolish and destroy isis \n",
            "Original summary: sos defeating islamic state no us goal us state secretary eos \n",
            "Predicted summary:  sos us has no one of the us state secy eos\n",
            "\n",
            "\n",
            "Review: the us national nuclear security administration nnsa has announced that it along with the us air force successfully field tested modernised gravity nuclear bomb 12 on march 14 at the test range in nevada the test was intended to evaluate the weapon non nuclear functions and the aircraft capability to deliver the weapon nnsa said \n",
            "Original summary: sos us successfully tests new nuclear gravity bomb eos \n",
            "Predicted summary:  sos us tests nuclear test site test eos\n",
            "\n",
            "\n",
            "Review: several political parties in tamil nadu have urged people to boycott ipl matches in chennai in protest against the centre failing to meet deadline for creating the cauvery management board tvk leader velmurugan threatened that if ipl is conducted in chennai farmers will go inside the stadium and protest csk play their first match at home on april 10 \n",
            "Original summary: sos boycott ipl matches in chennai demand tn political groups eos \n",
            "Predicted summary:  sos tn farmers seek support to not release tn tn governor eos\n",
            "\n",
            "\n",
            "Review: union minister jayant sinha on tuesday said that air india had sought loan of 180 million over ã¢ââ¹1 170 crore for procurement of two aircraft for vvips but did not take it he said the government instead released the required funds from the national small savings fund these aircraft would be used to ferry president vice president and prime minister \n",
            "Original summary: sos air india sought but didn take loan for vvip planes govt eos \n",
            "Predicted summary:  sos air india union minister denies sale of its sale eos\n",
            "\n",
            "\n",
            "Review: the us senate on tuesday blocked republican proposal by voting 55 45 to repeal and replace former president barack obama affordable care act interestingly seven republicans voted against the proposal introduced by their party the proposal was aimed at revising the affordable care act by cutting taxes restructuring subsidies to insurance customers and pulling out of expansion \n",
            "Original summary: sos us senate blocks proposal to repeal and replace obamacare eos \n",
            "Predicted summary:  sos us house approves bid to buy obama house eos\n",
            "\n",
            "\n",
            "Review: elon musk led space exploration startup spacex has launched qatar 2 telecommunications satellite aboard falcon rocket marking its 18th launch of the year the falcon rocket lifted off from nasaã¢ââs kennedy space center in florida on thursday the satellite was deployed to geostationary transfer orbit about 32 minutes after liftoff the company said \n",
            "Original summary: sos spacex launches satellite on falcon 18th launch of 2018 eos \n",
            "Predicted summary:  sos spacex launches its satellite on its 1st satellite eos\n",
            "\n",
            "\n",
            "Review: a facebook post by stayzilla client saw owner aditya cs has emerged online showing that he enquired about voodoo dolls on shopping page in february notably stayzilla co founder singhi has received parcel with his son photo and voodoo doll with nail through its forehead the client earlier threatened singhi family over unpaid dues \n",
            "Original summary: sos stayzilla client about on facebook eos \n",
            "Predicted summary:  sos facebook employee who is the word eos\n",
            "\n",
            "\n",
            "Review: at white house discussion on women empowerment president donald trump said his administration will work to ensure america becomes place where women can work and thrive like never before adding that his cabinet is full of incredible women leaders trump said we want every daughter in america to grow up in country where she can realise her dreams \n",
            "Original summary: sos will make us place where women can work and trump eos \n",
            "Predicted summary:  sos trump will make us women like women in us eos\n",
            "\n",
            "\n",
            "Review: following shikhar dhawan exclusion from team india for the lord test against england former indian cricket team captain sunil gavaskar said that the opener is always being made the scapegoat in the last match he scored more runs than murali vijay if you have to drop him after every match why do you take him on tour gavaskar added \n",
            "Original summary: sos dhawan always being made the scapegoat sunil gavaskar eos \n",
            "Predicted summary:  sos gavaskar is the only indian team gavaskar eos\n",
            "\n",
            "\n",
            "Review: actress alia bhatt while speaking about her upcoming film brahmãâstra said it is her most action heavy film yet but it different kind of organic action not she added alia further dismissed reports that brahmãâstra is superhero film and said if you call it that then people will imagine us running around the city in red underwear \n",
            "Original summary: sos brahmãâstra my most action heavy film yet alia bhatt eos \n",
            "Predicted summary:  sos i am not the most expensive films alia bhatt eos\n",
            "\n",
            "\n",
            "Review: ride hailing startup uber on tuesday will launch an in app tipping feature in the uk that will let customers tip drivers after the trip ends according to reports 100 amount of the tip will go to the drivers uber is also launching feature in which passengers will pay ã¢ââ¹16 per minute if they keep drivers waiting for over two minutes \n",
            "Original summary: sos uber to launch in app feature in uk eos \n",
            "Predicted summary:  sos uber to launch its own app for 2019 report eos\n",
            "\n",
            "\n",
            "Review: youtube product manager twitter account was hacked to spread fake news about shooting at the company headquarters tweet read please help me find my friend lost him in the shooting with link to youtuber picture the tweets were deleted after twitter ceo jack dorsey said the company is taking action to resolve the issue \n",
            "Original summary: sos youtube exec twitter hacked to post fake news of shooting eos \n",
            "Predicted summary:  sos youtube ceo hacked twitter account hacked eos\n",
            "\n",
            "\n",
            "Review: the congress government in puducherry has announced it will sell cement at subsidised rates and name the scheme after sonia gandhi the announcement was made when welfare minister was responding to question on non availability of construction materials he added since cement was not manufactured in puducherry the government would procure it at subsidised cost for distribution \n",
            "Original summary: sos cement scheme in puducherry to be named after sonia gandhi eos \n",
            "Predicted summary:  sos govt to sell sonia gandhi for sale of gandhi eos\n",
            "\n",
            "\n",
            "Review: in government run hospital in uttar pradesh hardoi stray dogs were seen inside the wards where patients were admitted we are scared but if we complain to the staff they say just the dogs away yourself people at the hospital said meanwhile senior official said that staff has now been deployed to not let the dogs enter \n",
            "Original summary: sos stray dogs seen inside govt hospital wards in up eos \n",
            "Predicted summary:  sos up govt hospital makes kids with dogs in up eos\n",
            "\n",
            "\n",
            "Review: former indian cricketer sachin tendulkar whose son arjun broke into india under 19 team on thursday never played any age group cricket for india the 45 year old who made his test debut at the age of 16 still holds the record for being india youngest test and odi debutant aged 14 sachin scored record breaking 664 run partnership with vinod kambli in school cricket \n",
            "Original summary: sos sachin tendulkar never played age group cricket for india eos \n",
            "Predicted summary:  sos sachin won last 19 yr old son of cricket debut eos\n",
            "\n",
            "\n",
            "Review: in bid to stop multiple allotment of for project affected people to single beneficiary the bmc is preparing software to link slums with aadhaar stating that aadhaar is the mother base of all data civic chief mehta added linking it with slums is the best possible way to prevent multiple allotments and further encroachment \n",
            "Original summary: sos mumbai to get software linking with aadhaar eos \n",
            "Predicted summary:  sos govt to set up aadhaar for the name of eos\n",
            "\n",
            "\n",
            "Review: three uttar pradesh policemen have been suspended after they detained couple at park in ghaziabad as part of the ongoing anti romeo drive officials said on saturday they were reportedly held without the presence of any women cop which is mandatory for detaining women following this cm yogi adityanath has asked police not to harass consenting couples \n",
            "Original summary: sos 3 up cops suspended for detaining couple in anti romeo drive eos \n",
            "Predicted summary:  sos up police suspended for anti romeo squads in up eos\n",
            "\n",
            "\n",
            "Review: a united airlines passenger is seeking compensation over claims that scorpion stung him during flight to canada united confirmed the incident saying our flight attendants helped customer who was stung by what appeared to be scorpion it has not been confirmed whether it was scorpion because flight attendants had flushed it down the toilet mid flight \n",
            "Original summary: sos united passenger claims scorpion him during flight eos \n",
            "Predicted summary:  sos united airlines passenger claims passenger flight eos\n",
            "\n",
            "\n",
            "Review: us based meal replacement startup soylent co founder rob has stepped down from his role as the company chief executive officer in blogpost said he will continue as soylent executive chairman he also announced that bryan who was appointed the president of soylent parent company rosa foods in june will take over as the ceo \n",
            "Original summary: sos meal replacement startup ceo steps down eos \n",
            "Predicted summary:  sos us startup ceo and company quits eos\n",
            "\n",
            "\n",
            "Review: the annual median compensation of e commerce giant amazon is nearly 28 ã¢ââ¹19 lakh as compared to social media giant facebook 240 430 ã¢ââ¹1 6 crore the revelation comes under new requirement that companies disclose the gap between top and low level workers amazon which has workforce of over 60 000 has the third lowest median pay while facebook has the highest \n",
            "Original summary: sos amazon worker earns compared to fb ã¢ââ¹1 6 cr eos \n",
            "Predicted summary:  sos amazon loses ã¢ââ¹1 lakh crore in 2017 eos\n",
            "\n",
            "\n",
            "Review: a seven year old girl named passed away after she tried to imitate scene showing girl dancing on fire in the kannada television serial nandini we have lost our daughter but we want other parents to be cautious please do not make children sit along with you and watch serials said mother \n",
            "Original summary: 7 yr old girl dies after trying to imitate scene on tv show eos \n",
            "Predicted summary:  sos girl dies after being hit by her in school eos\n",
            "\n",
            "\n",
            "Review: external affairs minister sushma swaraj on saturday helped italian national giovanni who was injured in road accident on the yamuna expressway in uttar pradesh after user had tweeted to swaraj that was alone in the hospital swaraj replied he is not alone he is in india have spoken to kailash hospital they will take care \n",
            "Original summary: sos he not alone he in india swaraj helps italian national eos \n",
            "Predicted summary:  sos swaraj tells up hospital over missing accident eos\n",
            "\n",
            "\n",
            "Review: spicejet has increased its excess checked in baggage fee by as much as 185 days after delhi high court put aside government order capping such fee it increased excess baggage charges to ã¢ââ¹1 425 from ã¢ââ¹500 for kg above the free 15 kg allowed per passenger passengers who don pre book excess baggage must pay ã¢ââ¹300 per kg beyond the limit \n",
            "Original summary: sos spicejet hikes excess baggage fee by 185 eos \n",
            "Predicted summary:  sos spicejet profit fee hike to be auctioned for eos\n",
            "\n",
            "\n",
            "Review: founder of mcafee anti virus software john mcafee has tweeted that he will eat his on national television if the price of bitcoin doesn cross 500 000 about ã¢ââ¹3 2 crore in three years the digital currency bitcoin reached high of 3 018 in mid june but dropped below 2 000 over the past weekend the overall cryptocurrency market hit 80 billion on tuesday \n",
            "Original summary: i ll eat my on tv if bitcoin doesn hit ã¢ââ¹3 2cr mcafee eos \n",
            "Predicted summary:  sos will the biggest bitcoin if it will be sold in bitcoin eos\n",
            "\n",
            "\n",
            "Review: ayodhya on wednesday successfully lit 87 213 diyas at ram ki on the banks of river saryu team members of guinness world records captured the event by but are yet to declare if the record was broken the previous record was set by dera sacha sauda that had lit 50 diyas in september last year \n",
            "Original summary: sos ayodhya celebrates diwali by over 1 8 lakh eos \n",
            "Predicted summary:  sos ram rahim celebrate diwali with eos\n",
            "\n",
            "\n",
            "Review: north korea punggye ri nuclear test site which the country pledged to abolish remains usable and its closure could easily be reversed us intelligence officials have said there is no reason to conclude the test site is no longer functional an official said recent study had claimed the punggye ri nuclear site partially collapsed after the regime carried out multiple explosions \n",
            "Original summary: sos n korea test site still closure us eos \n",
            "Predicted summary:  sos n korea test site still still test us eos\n",
            "\n",
            "\n"
          ],
          "name": "stdout"
        }
      ]
    },
    {
      "cell_type": "code",
      "metadata": {
        "id": "GDtf2y2BwEP2",
        "colab_type": "code",
        "colab": {}
      },
      "source": [
        ""
      ],
      "execution_count": 0,
      "outputs": []
    }
  ]
}